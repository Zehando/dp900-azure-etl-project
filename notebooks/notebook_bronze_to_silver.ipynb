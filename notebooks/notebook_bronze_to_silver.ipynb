{
  "nbformat": 4,
  "nbformat_minor": 2,
  "metadata": {
    "language_info": {
      "name": "python"
    },
    "kernelspec": {
      "name": "synapse_pyspark",
      "display_name": "python"
    },
    "description": null,
    "save_output": true,
    "synapse_widget": {
      "version": "0.1",
      "state": {}
    }
  },
  "cells": [
    {
      "cell_type": "markdown",
      "metadata": {},
      "source": [
        "# Load hive data"
      ]
    },
    {
      "cell_type": "code",
      "execution_count": 27,
      "outputs": [
        {
          "output_type": "display_data",
          "data": {
            "application/vnd.livy.statement-meta+json": {
              "spark_pool": "CLSYNB",
              "statement_id": 28,
              "statement_ids": [
                28
              ],
              "state": "finished",
              "livy_statement_state": "available",
              "spark_jobs": null,
              "session_id": "31",
              "normalized_state": "finished",
              "queued_time": "2025-08-20T06:52:39.8729852Z",
              "session_start_time": null,
              "execution_start_time": "2025-08-20T06:52:39.8748021Z",
              "execution_finish_time": "2025-08-20T06:52:42.8253848Z",
              "parent_msg_id": "d806623b-6ada-4353-856c-62ee44908277"
            },
            "text/plain": "StatementMeta(CLSYNB, 31, 28, Finished, Available, Finished)"
          },
          "metadata": {}
        }
      ],
      "metadata": {},
      "source": [
        "import pandas as pd\n",
        "\n",
        "root_dir = \"abfss://beehivestorage@beehiveprojectlake.dfs.core.windows.net/\"\n",
        "source = root_dir+'silver/processing/'\n",
        "\n",
        "try:\n",
        "    flow = pd.read_csv(source+'flow_schwartau.csv', parse_dates=['timestamp'])\n",
        "except FileNotFoundError:\n",
        "    try:\n",
        "        flow = pd.read_csv(source+'flow_wurzburg.csv', parse_dates=['timestamp'])\n",
        "    except FileNotFoundError:\n",
        "        # dummy DataFrame if no file found\n",
        "        flow = pd.DataFrame(columns=[\"timestamp\", \"flow\"], dtype=int)\n",
        "        flow[\"timestamp\"] = pd.to_datetime(flow[\"timestamp\"])\n",
        "try:\n",
        "    humidity = pd.read_csv(source+'humidity_schwartau.csv', parse_dates=['timestamp'])\n",
        "except FileNotFoundError:\n",
        "    try:\n",
        "        humidity = pd.read_csv(source+'humidity_wurzburg.csv', parse_dates=['timestamp'])\n",
        "    except FileNotFoundError:\n",
        "        # dummy DataFrame if no file found\n",
        "        humidity = pd.DataFrame(columns=[\"timestamp\", \"humidity\"], dtype=int)\n",
        "        humidity[\"timestamp\"] = pd.to_datetime(humidity[\"timestamp\"])\n",
        "try:\n",
        "    temperature = pd.read_csv(source+'temperature_schwartau.csv', parse_dates=['timestamp'])\n",
        "except FileNotFoundError:\n",
        "    try:\n",
        "        temperature = pd.read_csv(source+'temperature_wurzburg.csv', parse_dates=['timestamp'])\n",
        "    except FileNotFoundError:\n",
        "        # dummy DataFrame if no file found\n",
        "        temperature = pd.DataFrame(columns=[\"timestamp\", \"temperature\"], dtype=int)\n",
        "        temperature[\"timestamp\"] = pd.to_datetime(temperature[\"timestamp\"])\n",
        "try:\n",
        "    weight = pd.read_csv(source+'weight_schwartau.csv', parse_dates=['timestamp'])\n",
        "except FileNotFoundError:\n",
        "    try:\n",
        "        weight = pd.read_csv(source+'weight_wurzburg.csv', parse_dates=['timestamp'])\n",
        "    except FileNotFoundError:\n",
        "        # dummy DataFrame if no file found\n",
        "        weight = pd.DataFrame(columns=[\"timestamp\", \"weight\"], dtype=int)\n",
        "        weight[\"timestamp\"] = pd.to_datetime(weight[\"timestamp\"])\n",
        ""
      ]
    },
    {
      "cell_type": "code",
      "execution_count": 28,
      "outputs": [
        {
          "output_type": "display_data",
          "data": {
            "application/vnd.livy.statement-meta+json": {
              "spark_pool": "CLSYNB",
              "statement_id": 29,
              "statement_ids": [
                29
              ],
              "state": "finished",
              "livy_statement_state": "available",
              "spark_jobs": null,
              "session_id": "31",
              "normalized_state": "finished",
              "queued_time": "2025-08-20T06:52:39.970788Z",
              "session_start_time": null,
              "execution_start_time": "2025-08-20T06:52:42.838669Z",
              "execution_finish_time": "2025-08-20T06:52:43.095396Z",
              "parent_msg_id": "b596a428-157e-485e-9a58-a8f5127e2213"
            },
            "text/plain": "StatementMeta(CLSYNB, 31, 29, Finished, Available, Finished)"
          },
          "metadata": {}
        },
        {
          "output_type": "stream",
          "name": "stdout",
          "text": [
            "<class 'pandas.core.frame.DataFrame'>\nRangeIndex: 2513836 entries, 0 to 2513835\nData columns (total 2 columns):\n #   Column     Non-Null Count    Dtype         \n---  ------     --------------    -----         \n 0   timestamp  2513836 non-null  datetime64[ns]\n 1   flow       2513836 non-null  int64         \ndtypes: datetime64[ns](1), int64(1)\nmemory usage: 38.4 MB\n"
          ]
        }
      ],
      "metadata": {
        "colab": {
          "base_uri": "https://localhost:8080/"
        },
        "id": "9c272114-664f-44f6-b4e1-ff59363a9088",
        "outputId": "a8427dc8-8763-42e7-a095-7603f5b92a20"
      },
      "source": [
        "flow.info(show_counts=True)"
      ]
    },
    {
      "cell_type": "code",
      "execution_count": 29,
      "outputs": [
        {
          "output_type": "display_data",
          "data": {
            "application/vnd.livy.statement-meta+json": {
              "spark_pool": "CLSYNB",
              "statement_id": 30,
              "statement_ids": [
                30
              ],
              "state": "finished",
              "livy_statement_state": "available",
              "spark_jobs": null,
              "session_id": "31",
              "normalized_state": "finished",
              "queued_time": "2025-08-20T06:52:40.2680291Z",
              "session_start_time": null,
              "execution_start_time": "2025-08-20T06:52:43.1110622Z",
              "execution_finish_time": "2025-08-20T06:52:43.3932648Z",
              "parent_msg_id": "0fc9118b-816a-46d1-8681-0c6b0b9396d0"
            },
            "text/plain": "StatementMeta(CLSYNB, 31, 30, Finished, Available, Finished)"
          },
          "metadata": {}
        },
        {
          "output_type": "stream",
          "name": "stdout",
          "text": [
            "<class 'pandas.core.frame.DataFrame'>\nRangeIndex: 1761 entries, 0 to 1760\nData columns (total 2 columns):\n #   Column     Non-Null Count  Dtype         \n---  ------     --------------  -----         \n 0   timestamp  1761 non-null   datetime64[ns]\n 1   humidity   1749 non-null   float64       \ndtypes: datetime64[ns](1), float64(1)\nmemory usage: 27.6 KB\n"
          ]
        }
      ],
      "metadata": {
        "colab": {
          "base_uri": "https://localhost:8080/"
        },
        "id": "a892689b-9042-4a59-abe0-0738a832b374",
        "outputId": "07d6fed9-ca93-47b6-f03b-e184e15bf42c"
      },
      "source": [
        "humidity.info() # some missing values for humidity"
      ]
    },
    {
      "cell_type": "code",
      "execution_count": 30,
      "outputs": [
        {
          "output_type": "display_data",
          "data": {
            "application/vnd.livy.statement-meta+json": {
              "spark_pool": "CLSYNB",
              "statement_id": 31,
              "statement_ids": [
                31
              ],
              "state": "finished",
              "livy_statement_state": "available",
              "spark_jobs": null,
              "session_id": "31",
              "normalized_state": "finished",
              "queued_time": "2025-08-20T06:52:40.4224198Z",
              "session_start_time": null,
              "execution_start_time": "2025-08-20T06:52:43.4060978Z",
              "execution_finish_time": "2025-08-20T06:52:43.6659021Z",
              "parent_msg_id": "d6037965-6c67-478e-bddf-c04aff63c817"
            },
            "text/plain": "StatementMeta(CLSYNB, 31, 31, Finished, Available, Finished)"
          },
          "metadata": {}
        },
        {
          "output_type": "stream",
          "name": "stdout",
          "text": [
            "<class 'pandas.core.frame.DataFrame'>\nRangeIndex: 253430 entries, 0 to 253429\nData columns (total 2 columns):\n #   Column       Non-Null Count   Dtype         \n---  ------       --------------   -----         \n 0   timestamp    253430 non-null  datetime64[ns]\n 1   temperature  251398 non-null  float64       \ndtypes: datetime64[ns](1), float64(1)\nmemory usage: 3.9 MB\n"
          ]
        }
      ],
      "metadata": {
        "colab": {
          "base_uri": "https://localhost:8080/"
        },
        "id": "5fd0f4b4-46fa-43a1-8976-2d826d0d1901",
        "outputId": "ebc0f244-7301-4107-ff13-d5582e8dd4c3"
      },
      "source": [
        "temperature.info() # some missing temp values"
      ]
    },
    {
      "cell_type": "code",
      "execution_count": 31,
      "outputs": [
        {
          "output_type": "display_data",
          "data": {
            "application/vnd.livy.statement-meta+json": {
              "spark_pool": "CLSYNB",
              "statement_id": 32,
              "statement_ids": [
                32
              ],
              "state": "finished",
              "livy_statement_state": "available",
              "spark_jobs": null,
              "session_id": "31",
              "normalized_state": "finished",
              "queued_time": "2025-08-20T06:52:40.5664872Z",
              "session_start_time": null,
              "execution_start_time": "2025-08-20T06:52:43.6794697Z",
              "execution_finish_time": "2025-08-20T06:52:43.9348056Z",
              "parent_msg_id": "6bae9a37-3a9b-44dc-b1cb-db4efbfec741"
            },
            "text/plain": "StatementMeta(CLSYNB, 31, 32, Finished, Available, Finished)"
          },
          "metadata": {}
        },
        {
          "output_type": "stream",
          "name": "stdout",
          "text": [
            "<class 'pandas.core.frame.DataFrame'>\nRangeIndex: 1761 entries, 0 to 1760\nData columns (total 2 columns):\n #   Column     Non-Null Count  Dtype         \n---  ------     --------------  -----         \n 0   timestamp  1761 non-null   datetime64[ns]\n 1   weight     1749 non-null   float64       \ndtypes: datetime64[ns](1), float64(1)\nmemory usage: 27.6 KB\n"
          ]
        }
      ],
      "metadata": {
        "colab": {
          "base_uri": "https://localhost:8080/"
        },
        "id": "d744536a-8224-4a65-9a65-34b60a01c99f",
        "outputId": "e685eec9-a859-4108-ceed-7774bbab32ea"
      },
      "source": [
        "weight.info() # some missing weight values"
      ]
    },
    {
      "cell_type": "markdown",
      "metadata": {},
      "source": [
        "# Explore hive data"
      ]
    },
    {
      "cell_type": "markdown",
      "metadata": {},
      "source": [
        "## Flow"
      ]
    },
    {
      "cell_type": "code",
      "execution_count": 32,
      "outputs": [
        {
          "output_type": "display_data",
          "data": {
            "application/vnd.livy.statement-meta+json": {
              "spark_pool": "CLSYNB",
              "statement_id": 33,
              "statement_ids": [
                33
              ],
              "state": "finished",
              "livy_statement_state": "available",
              "spark_jobs": null,
              "session_id": "31",
              "normalized_state": "finished",
              "queued_time": "2025-08-20T06:52:40.6883724Z",
              "session_start_time": null,
              "execution_start_time": "2025-08-20T06:52:43.9492357Z",
              "execution_finish_time": "2025-08-20T06:52:44.215136Z",
              "parent_msg_id": "cde6876f-95a6-4d8c-b47d-3ee0c7b0c891"
            },
            "text/plain": "StatementMeta(CLSYNB, 31, 33, Finished, Available, Finished)"
          },
          "metadata": {}
        },
        {
          "output_type": "execute_result",
          "data": {
            "text/plain": "0 days 00:01:00        2513704\n0 days 00:02:00            112\n0 days 01:01:00              6\n-1 days +23:01:00            4\n5 days 09:32:00              2\n0 days 11:56:00              2\n0 days 02:44:00              2\n1 days 01:19:00              2\n-880 days +00:00:00          1\nName: timestamp, dtype: int64"
          },
          "execution_count": 67,
          "metadata": {}
        }
      ],
      "metadata": {
        "colab": {
          "base_uri": "https://localhost:8080/",
          "height": 397
        },
        "id": "1fdf4c36-7eb6-43c0-aad6-b3009fda611a",
        "outputId": "791b9e60-2e8d-4a3e-e8e5-1e098c95da6c"
      },
      "source": [
        "flow.head(15) # arranged by timestamp, every 1 minute\n",
        "(flow['timestamp'] - flow['timestamp'].shift(1)).value_counts() # is it really arranged so regularly? no"
      ]
    },
    {
      "cell_type": "code",
      "execution_count": 33,
      "outputs": [
        {
          "output_type": "display_data",
          "data": {
            "application/vnd.livy.statement-meta+json": {
              "spark_pool": "CLSYNB",
              "statement_id": 34,
              "statement_ids": [
                34
              ],
              "state": "finished",
              "livy_statement_state": "available",
              "spark_jobs": null,
              "session_id": "31",
              "normalized_state": "finished",
              "queued_time": "2025-08-20T06:52:40.8121634Z",
              "session_start_time": null,
              "execution_start_time": "2025-08-20T06:52:44.2305227Z",
              "execution_finish_time": "2025-08-20T06:52:44.8729336Z",
              "parent_msg_id": "34753c7c-1aef-47d1-83f0-4165e67680ca"
            },
            "text/plain": "StatementMeta(CLSYNB, 31, 34, Finished, Available, Finished)"
          },
          "metadata": {}
        },
        {
          "output_type": "execute_result",
          "data": {
            "text/plain": "                  timestamp  flow\n0       2017-01-01 14:15:00     0\n1256918 2017-01-01 14:15:00     0\n1256919 2017-01-01 14:16:00     0\n1       2017-01-01 14:16:00     0\n2       2017-01-01 14:17:00     0\n1256920 2017-01-01 14:17:00     0\n3       2017-01-01 14:18:00     0\n1256921 2017-01-01 14:18:00     0\n4       2017-01-01 14:19:00     0\n1256922 2017-01-01 14:19:00     0\n1256923 2017-01-01 14:20:00     0\n5       2017-01-01 14:20:00     0\n1256924 2017-01-01 14:21:00     0\n6       2017-01-01 14:21:00     0\n1256925 2017-01-01 14:22:00     0\n7       2017-01-01 14:22:00     0\n1256926 2017-01-01 14:23:00     0\n8       2017-01-01 14:23:00     0\n1256927 2017-01-01 14:24:00     0\n9       2017-01-01 14:24:00     0",
            "text/html": "<div>\n<style scoped>\n    .dataframe tbody tr th:only-of-type {\n        vertical-align: middle;\n    }\n\n    .dataframe tbody tr th {\n        vertical-align: top;\n    }\n\n    .dataframe thead th {\n        text-align: right;\n    }\n</style>\n<table border=\"1\" class=\"dataframe\">\n  <thead>\n    <tr style=\"text-align: right;\">\n      <th></th>\n      <th>timestamp</th>\n      <th>flow</th>\n    </tr>\n  </thead>\n  <tbody>\n    <tr>\n      <th>0</th>\n      <td>2017-01-01 14:15:00</td>\n      <td>0</td>\n    </tr>\n    <tr>\n      <th>1256918</th>\n      <td>2017-01-01 14:15:00</td>\n      <td>0</td>\n    </tr>\n    <tr>\n      <th>1256919</th>\n      <td>2017-01-01 14:16:00</td>\n      <td>0</td>\n    </tr>\n    <tr>\n      <th>1</th>\n      <td>2017-01-01 14:16:00</td>\n      <td>0</td>\n    </tr>\n    <tr>\n      <th>2</th>\n      <td>2017-01-01 14:17:00</td>\n      <td>0</td>\n    </tr>\n    <tr>\n      <th>1256920</th>\n      <td>2017-01-01 14:17:00</td>\n      <td>0</td>\n    </tr>\n    <tr>\n      <th>3</th>\n      <td>2017-01-01 14:18:00</td>\n      <td>0</td>\n    </tr>\n    <tr>\n      <th>1256921</th>\n      <td>2017-01-01 14:18:00</td>\n      <td>0</td>\n    </tr>\n    <tr>\n      <th>4</th>\n      <td>2017-01-01 14:19:00</td>\n      <td>0</td>\n    </tr>\n    <tr>\n      <th>1256922</th>\n      <td>2017-01-01 14:19:00</td>\n      <td>0</td>\n    </tr>\n    <tr>\n      <th>1256923</th>\n      <td>2017-01-01 14:20:00</td>\n      <td>0</td>\n    </tr>\n    <tr>\n      <th>5</th>\n      <td>2017-01-01 14:20:00</td>\n      <td>0</td>\n    </tr>\n    <tr>\n      <th>1256924</th>\n      <td>2017-01-01 14:21:00</td>\n      <td>0</td>\n    </tr>\n    <tr>\n      <th>6</th>\n      <td>2017-01-01 14:21:00</td>\n      <td>0</td>\n    </tr>\n    <tr>\n      <th>1256925</th>\n      <td>2017-01-01 14:22:00</td>\n      <td>0</td>\n    </tr>\n    <tr>\n      <th>7</th>\n      <td>2017-01-01 14:22:00</td>\n      <td>0</td>\n    </tr>\n    <tr>\n      <th>1256926</th>\n      <td>2017-01-01 14:23:00</td>\n      <td>0</td>\n    </tr>\n    <tr>\n      <th>8</th>\n      <td>2017-01-01 14:23:00</td>\n      <td>0</td>\n    </tr>\n    <tr>\n      <th>1256927</th>\n      <td>2017-01-01 14:24:00</td>\n      <td>0</td>\n    </tr>\n    <tr>\n      <th>9</th>\n      <td>2017-01-01 14:24:00</td>\n      <td>0</td>\n    </tr>\n  </tbody>\n</table>\n</div>"
          },
          "execution_count": 69,
          "metadata": {}
        }
      ],
      "metadata": {
        "id": "9a488e82-f6a1-42cf-bb50-ed744ebcc4ba",
        "outputId": "8b67add2-b0a7-4a98-f29b-c6543d9a0e0d"
      },
      "source": [
        "# sort by timestamp because of that big negative step\n",
        "flow.sort_values(by='timestamp').head(20) # timestamps always come in pairs of one small index, one large index"
      ]
    },
    {
      "cell_type": "code",
      "execution_count": 34,
      "outputs": [
        {
          "output_type": "display_data",
          "data": {
            "application/vnd.livy.statement-meta+json": {
              "spark_pool": "CLSYNB",
              "statement_id": 35,
              "statement_ids": [
                35
              ],
              "state": "finished",
              "livy_statement_state": "available",
              "spark_jobs": null,
              "session_id": "31",
              "normalized_state": "finished",
              "queued_time": "2025-08-20T06:52:40.9254185Z",
              "session_start_time": null,
              "execution_start_time": "2025-08-20T06:52:44.8859812Z",
              "execution_finish_time": "2025-08-20T06:52:45.1302482Z",
              "parent_msg_id": "e5dfb8b8-d6c1-4d26-b2c0-4fb44a1ecdbb"
            },
            "text/plain": "StatementMeta(CLSYNB, 31, 35, Finished, Available, Finished)"
          },
          "metadata": {}
        },
        {
          "output_type": "execute_result",
          "data": {
            "text/plain": "min       0\nmax    7999\nName: flow, dtype: int64"
          },
          "execution_count": 71,
          "metadata": {}
        }
      ],
      "metadata": {
        "colab": {
          "base_uri": "https://localhost:8080/",
          "height": 147
        },
        "id": "f0455c1c-e04b-432e-9767-8badeefb3e2d",
        "outputId": "23e9f0a0-90a1-4be3-e309-c73c8b210077"
      },
      "source": [
        "# suppose the document is written in two steps:\n",
        "# all counts in one direction, arranged by timestamp; then repeat in the other direction\n",
        "flow.loc[:flow.shape[0]//2-1, 'flow'].agg(['min', 'max']) # all non-positive values\n",
        "flow.loc[flow.shape[0]//2:, 'flow'].agg(['min', 'max']) # all non-negative values"
      ]
    },
    {
      "cell_type": "code",
      "execution_count": 35,
      "outputs": [
        {
          "output_type": "display_data",
          "data": {
            "application/vnd.livy.statement-meta+json": {
              "spark_pool": "CLSYNB",
              "statement_id": 36,
              "statement_ids": [
                36
              ],
              "state": "finished",
              "livy_statement_state": "available",
              "spark_jobs": null,
              "session_id": "31",
              "normalized_state": "finished",
              "queued_time": "2025-08-20T06:52:41.0374234Z",
              "session_start_time": null,
              "execution_start_time": "2025-08-20T06:52:45.1437248Z",
              "execution_finish_time": "2025-08-20T06:52:45.3986396Z",
              "parent_msg_id": "7c9ec03c-65ab-45a5-b7ea-9b310d322a53"
            },
            "text/plain": "StatementMeta(CLSYNB, 31, 36, Finished, Available, Finished)"
          },
          "metadata": {}
        }
      ],
      "metadata": {
        "id": "afc3095c-62b4-4ee6-9ec5-cc43c2e00982"
      },
      "source": [
        "# divide flow into the two types of counts, in and out\n",
        "departures = flow.iloc[:flow.shape[0]//2-1].copy()\n",
        "arrivals = flow.iloc[flow.shape[0]//2:].copy()"
      ]
    },
    {
      "cell_type": "code",
      "execution_count": 36,
      "outputs": [
        {
          "output_type": "display_data",
          "data": {
            "application/vnd.livy.statement-meta+json": {
              "spark_pool": "CLSYNB",
              "statement_id": 37,
              "statement_ids": [
                37
              ],
              "state": "finished",
              "livy_statement_state": "available",
              "spark_jobs": null,
              "session_id": "31",
              "normalized_state": "finished",
              "queued_time": "2025-08-20T06:52:41.1450949Z",
              "session_start_time": null,
              "execution_start_time": "2025-08-20T06:52:45.4120762Z",
              "execution_finish_time": "2025-08-20T06:52:46.0592731Z",
              "parent_msg_id": "167fd1cd-d226-4a15-a41b-544cbfccb195"
            },
            "text/plain": "StatementMeta(CLSYNB, 31, 37, Finished, Available, Finished)"
          },
          "metadata": {}
        },
        {
          "output_type": "execute_result",
          "data": {
            "text/plain": "array([2])"
          },
          "execution_count": 75,
          "metadata": {}
        }
      ],
      "metadata": {
        "colab": {
          "base_uri": "https://localhost:8080/"
        },
        "id": "06481177-9d1c-43da-9126-b68c9912bdb5",
        "outputId": "bd846256-e05e-42de-d60e-071d700a7f62"
      },
      "source": [
        "departures.duplicated().sum() # are all timestamps unique? no\n",
        "departures.loc[departures.duplicated(), 'timestamp'].dt.date.value_counts() # when are times duplicated?\n",
        "departures.loc[departures.duplicated(), 'timestamp'].dt.day_name().unique() # this is always on a Sunday\n",
        "departures.loc[departures.duplicated(), 'timestamp'].dt.hour.unique() # very early in the morning\n",
        "\n",
        "# fulfills all expectations of time change"
      ]
    },
    {
      "cell_type": "code",
      "execution_count": 37,
      "outputs": [
        {
          "output_type": "display_data",
          "data": {
            "application/vnd.livy.statement-meta+json": {
              "spark_pool": "CLSYNB",
              "statement_id": 38,
              "statement_ids": [
                38
              ],
              "state": "finished",
              "livy_statement_state": "available",
              "spark_jobs": null,
              "session_id": "31",
              "normalized_state": "finished",
              "queued_time": "2025-08-20T06:52:41.2643965Z",
              "session_start_time": null,
              "execution_start_time": "2025-08-20T06:52:46.0725659Z",
              "execution_finish_time": "2025-08-20T06:52:46.7038447Z",
              "parent_msg_id": "0dd726c8-aedd-4a46-be59-5d0cdab8f50c"
            },
            "text/plain": "StatementMeta(CLSYNB, 31, 38, Finished, Available, Finished)"
          },
          "metadata": {}
        }
      ],
      "metadata": {
        "id": "813d1ecd-160e-47a3-87dc-ec5ae27fa64d",
        "outputId": "862faf5e-9722-4cca-a291-351cb2da591e"
      },
      "source": [
        "# because local time changes with season, convert to UTC\n",
        "departures['timestamp'] = departures['timestamp'].dt.tz_localize('Europe/Berlin', ambiguous='infer').dt.tz_convert(\"UTC\")\n",
        "\n",
        "# drop duplicates just in case\n",
        "departures = departures.drop_duplicates().copy() "
      ]
    },
    {
      "cell_type": "code",
      "execution_count": 38,
      "outputs": [
        {
          "output_type": "display_data",
          "data": {
            "application/vnd.livy.statement-meta+json": {
              "spark_pool": "CLSYNB",
              "statement_id": 39,
              "statement_ids": [
                39
              ],
              "state": "finished",
              "livy_statement_state": "available",
              "spark_jobs": null,
              "session_id": "31",
              "normalized_state": "finished",
              "queued_time": "2025-08-20T06:52:41.3774302Z",
              "session_start_time": null,
              "execution_start_time": "2025-08-20T06:52:46.7167129Z",
              "execution_finish_time": "2025-08-20T06:52:47.3689104Z",
              "parent_msg_id": "b0af75f1-b2c1-4389-97c6-05b23e936b77"
            },
            "text/plain": "StatementMeta(CLSYNB, 31, 39, Finished, Available, Finished)"
          },
          "metadata": {}
        }
      ],
      "metadata": {
        "id": "89ce164d-4a5c-45f0-b7d8-658749594004",
        "outputId": "c51b969c-72ef-4d56-83c3-5ab7354de3a5"
      },
      "source": [
        "arrivals['timestamp'] = arrivals['timestamp'].dt.tz_localize('Europe/Berlin', ambiguous='infer').dt.tz_convert(\"UTC\")\n",
        "\n",
        "arrivals = arrivals.drop_duplicates().copy() # drop duplicates just in case"
      ]
    },
    {
      "cell_type": "code",
      "execution_count": 39,
      "outputs": [
        {
          "output_type": "display_data",
          "data": {
            "application/vnd.livy.statement-meta+json": {
              "spark_pool": "CLSYNB",
              "statement_id": 40,
              "statement_ids": [
                40
              ],
              "state": "finished",
              "livy_statement_state": "available",
              "spark_jobs": null,
              "session_id": "31",
              "normalized_state": "finished",
              "queued_time": "2025-08-20T06:52:41.50129Z",
              "session_start_time": null,
              "execution_start_time": "2025-08-20T06:52:47.3820393Z",
              "execution_finish_time": "2025-08-20T06:52:48.0132747Z",
              "parent_msg_id": "bb65eeb6-6980-4219-b083-1c12f5eb1088"
            },
            "text/plain": "StatementMeta(CLSYNB, 31, 40, Finished, Available, Finished)"
          },
          "metadata": {}
        },
        {
          "output_type": "display_data",
          "data": {
            "text/plain": "<Figure size 1200x600 with 1 Axes>",
            "image/png": "[encoded data removed]"
          },
          "metadata": {}
        }
      ],
      "metadata": {
        "id": "810ea98e-3109-45a9-8da6-cce0217803c7",
        "outputId": "4f5ab727-6418-4fa1-943f-608092c420cd"
      },
      "source": [
        "# what's the distribution of counts?\n",
        "departures['flow'].hist(figsize=(12,6));\n",
        "arrivals['flow'].hist(figsize=(12,6)); # some numbers seem like outliers"
      ]
    },
    {
      "cell_type": "code",
      "execution_count": 40,
      "outputs": [
        {
          "output_type": "display_data",
          "data": {
            "application/vnd.livy.statement-meta+json": {
              "spark_pool": "CLSYNB",
              "statement_id": 41,
              "statement_ids": [
                41
              ],
              "state": "finished",
              "livy_statement_state": "available",
              "spark_jobs": null,
              "session_id": "31",
              "normalized_state": "finished",
              "queued_time": "2025-08-20T06:52:41.5940302Z",
              "session_start_time": null,
              "execution_start_time": "2025-08-20T06:52:48.0265646Z",
              "execution_finish_time": "2025-08-20T06:52:48.2880619Z",
              "parent_msg_id": "b7119add-228b-4425-93dc-f1cbb75cdc65"
            },
            "text/plain": "StatementMeta(CLSYNB, 31, 41, Finished, Available, Finished)"
          },
          "metadata": {}
        },
        {
          "output_type": "execute_result",
          "data": {
            "text/plain": "                        timestamp  flow\n2084055 2018-08-04 23:25:00+00:00  7999\n2098359 2018-08-14 21:50:00+00:00  7999\n2107004 2018-08-20 21:56:00+00:00  7999\n2107005 2018-08-20 21:57:00+00:00  7999\n2107009 2018-08-20 22:01:00+00:00  7999\n2107010 2018-08-20 22:02:00+00:00  7999\n2107023 2018-08-20 22:15:00+00:00  3148\n2101589 2018-08-17 03:41:00+00:00  3042\n1531827 2017-07-16 20:39:00+00:00  2755\n2091430 2018-08-10 02:21:00+00:00  2629\n1531826 2017-07-16 20:38:00+00:00  2592\n2095448 2018-08-12 21:19:00+00:00  2491\n2091431 2018-08-10 02:22:00+00:00  2219\n2102693 2018-08-17 22:05:00+00:00  2119\n2098360 2018-08-14 21:51:00+00:00  1974\n2098378 2018-08-14 22:09:00+00:00  1800\n1528943 2017-07-14 20:35:00+00:00  1761\n1531830 2017-07-16 20:42:00+00:00  1534\n2045113 2018-07-08 22:20:00+00:00  1487\n2099709 2018-08-15 20:20:00+00:00  1410",
            "text/html": "<div>\n<style scoped>\n    .dataframe tbody tr th:only-of-type {\n        vertical-align: middle;\n    }\n\n    .dataframe tbody tr th {\n        vertical-align: top;\n    }\n\n    .dataframe thead th {\n        text-align: right;\n    }\n</style>\n<table border=\"1\" class=\"dataframe\">\n  <thead>\n    <tr style=\"text-align: right;\">\n      <th></th>\n      <th>timestamp</th>\n      <th>flow</th>\n    </tr>\n  </thead>\n  <tbody>\n    <tr>\n      <th>2084055</th>\n      <td>2018-08-04 23:25:00+00:00</td>\n      <td>7999</td>\n    </tr>\n    <tr>\n      <th>2098359</th>\n      <td>2018-08-14 21:50:00+00:00</td>\n      <td>7999</td>\n    </tr>\n    <tr>\n      <th>2107004</th>\n      <td>2018-08-20 21:56:00+00:00</td>\n      <td>7999</td>\n    </tr>\n    <tr>\n      <th>2107005</th>\n      <td>2018-08-20 21:57:00+00:00</td>\n      <td>7999</td>\n    </tr>\n    <tr>\n      <th>2107009</th>\n      <td>2018-08-20 22:01:00+00:00</td>\n      <td>7999</td>\n    </tr>\n    <tr>\n      <th>2107010</th>\n      <td>2018-08-20 22:02:00+00:00</td>\n      <td>7999</td>\n    </tr>\n    <tr>\n      <th>2107023</th>\n      <td>2018-08-20 22:15:00+00:00</td>\n      <td>3148</td>\n    </tr>\n    <tr>\n      <th>2101589</th>\n      <td>2018-08-17 03:41:00+00:00</td>\n      <td>3042</td>\n    </tr>\n    <tr>\n      <th>1531827</th>\n      <td>2017-07-16 20:39:00+00:00</td>\n      <td>2755</td>\n    </tr>\n    <tr>\n      <th>2091430</th>\n      <td>2018-08-10 02:21:00+00:00</td>\n      <td>2629</td>\n    </tr>\n    <tr>\n      <th>1531826</th>\n      <td>2017-07-16 20:38:00+00:00</td>\n      <td>2592</td>\n    </tr>\n    <tr>\n      <th>2095448</th>\n      <td>2018-08-12 21:19:00+00:00</td>\n      <td>2491</td>\n    </tr>\n    <tr>\n      <th>2091431</th>\n      <td>2018-08-10 02:22:00+00:00</td>\n      <td>2219</td>\n    </tr>\n    <tr>\n      <th>2102693</th>\n      <td>2018-08-17 22:05:00+00:00</td>\n      <td>2119</td>\n    </tr>\n    <tr>\n      <th>2098360</th>\n      <td>2018-08-14 21:51:00+00:00</td>\n      <td>1974</td>\n    </tr>\n    <tr>\n      <th>2098378</th>\n      <td>2018-08-14 22:09:00+00:00</td>\n      <td>1800</td>\n    </tr>\n    <tr>\n      <th>1528943</th>\n      <td>2017-07-14 20:35:00+00:00</td>\n      <td>1761</td>\n    </tr>\n    <tr>\n      <th>1531830</th>\n      <td>2017-07-16 20:42:00+00:00</td>\n      <td>1534</td>\n    </tr>\n    <tr>\n      <th>2045113</th>\n      <td>2018-07-08 22:20:00+00:00</td>\n      <td>1487</td>\n    </tr>\n    <tr>\n      <th>2099709</th>\n      <td>2018-08-15 20:20:00+00:00</td>\n      <td>1410</td>\n    </tr>\n  </tbody>\n</table>\n</div>"
          },
          "execution_count": 83,
          "metadata": {}
        }
      ],
      "metadata": {
        "id": "4d9fd733-b3ba-4d45-bb70-f267306f8185",
        "outputId": "2e52f100-0e7b-414d-aa9a-52daca0f853f"
      },
      "source": [
        "arrivals.nlargest(20, 'flow') # 7999 is a pretty big gap from the rest of the figures"
      ]
    },
    {
      "cell_type": "code",
      "execution_count": 41,
      "outputs": [
        {
          "output_type": "display_data",
          "data": {
            "application/vnd.livy.statement-meta+json": {
              "spark_pool": "CLSYNB",
              "statement_id": 42,
              "statement_ids": [
                42
              ],
              "state": "finished",
              "livy_statement_state": "available",
              "spark_jobs": null,
              "session_id": "31",
              "normalized_state": "finished",
              "queued_time": "2025-08-20T06:52:41.733895Z",
              "session_start_time": null,
              "execution_start_time": "2025-08-20T06:52:48.3008308Z",
              "execution_finish_time": "2025-08-20T06:52:48.9534001Z",
              "parent_msg_id": "097539c1-48a8-471a-a46c-3173f176ffb3"
            },
            "text/plain": "StatementMeta(CLSYNB, 31, 42, Finished, Available, Finished)"
          },
          "metadata": {}
        },
        {
          "output_type": "display_data",
          "data": {
            "text/plain": "<Figure size 640x480 with 1 Axes>",
            "image/png": "[encoded data removed]"
          },
          "metadata": {}
        }
      ],
      "metadata": {
        "id": "16e861a1-3b8a-423f-af1d-bee487589402",
        "outputId": "899760fb-f5aa-45db-cf76-c8983bb7815a"
      },
      "source": [
        "import numpy as np\n",
        "# take logarithm to deal with long tail and inspect distribution\n",
        "np.log1p(arrivals[\"flow\"]).hist(); # seems bimodal\n",
        "np.log1p(departures[\"flow\"].abs()).hist(); # seems bimodal"
      ]
    },
    {
      "cell_type": "code",
      "execution_count": 42,
      "outputs": [
        {
          "output_type": "display_data",
          "data": {
            "application/vnd.livy.statement-meta+json": {
              "spark_pool": "CLSYNB",
              "statement_id": 43,
              "statement_ids": [
                43
              ],
              "state": "finished",
              "livy_statement_state": "available",
              "spark_jobs": null,
              "session_id": "31",
              "normalized_state": "finished",
              "queued_time": "2025-08-20T06:52:41.8450422Z",
              "session_start_time": null,
              "execution_start_time": "2025-08-20T06:52:48.9661207Z",
              "execution_finish_time": "2025-08-20T06:53:03.9051065Z",
              "parent_msg_id": "ca61952c-1e7a-48db-84b8-ec0eca197ccc"
            },
            "text/plain": "StatementMeta(CLSYNB, 31, 43, Finished, Available, Finished)"
          },
          "metadata": {}
        },
        {
          "output_type": "execute_result",
          "data": {
            "text/plain": "<Axes: xlabel='timestamp'>"
          },
          "execution_count": 87,
          "metadata": {}
        },
        {
          "output_type": "display_data",
          "data": {
            "text/plain": "<Figure size 640x480 with 1 Axes>",
            "image/png": "[encoded data removed]"
          },
          "metadata": {}
        }
      ],
      "metadata": {
        "id": "2744e74e-5472-4708-8a40-ff9bc0d8d7b6",
        "outputId": "1b9ed4ef-68be-4b8b-f504-5fda4589a202"
      },
      "source": [
        "arrivals.plot(kind='line', x='timestamp', y='flow') # all the highest values cluster in a few days. measurement error?"
      ]
    },
    {
      "cell_type": "markdown",
      "metadata": {},
      "source": [
        "Let's take flow data as bimodal. We'll identify the two mean values, and exclude data points beyond $3\\sigma$ from those means."
      ]
    },
    {
      "cell_type": "code",
      "execution_count": 43,
      "outputs": [
        {
          "output_type": "display_data",
          "data": {
            "application/vnd.livy.statement-meta+json": {
              "spark_pool": "CLSYNB",
              "statement_id": 44,
              "statement_ids": [
                44
              ],
              "state": "finished",
              "livy_statement_state": "available",
              "spark_jobs": null,
              "session_id": "31",
              "normalized_state": "finished",
              "queued_time": "2025-08-20T06:52:41.961765Z",
              "session_start_time": null,
              "execution_start_time": "2025-08-20T06:53:03.9200484Z",
              "execution_finish_time": "2025-08-20T06:53:04.2066151Z",
              "parent_msg_id": "7570cc18-d267-49b1-847d-7ea6679d560c"
            },
            "text/plain": "StatementMeta(CLSYNB, 31, 44, Finished, Available, Finished)"
          },
          "metadata": {}
        },
        {
          "output_type": "execute_result",
          "data": {
            "text/plain": "False"
          },
          "execution_count": 89,
          "metadata": {}
        }
      ],
      "metadata": {},
      "source": [
        "flow.empty"
      ]
    },
    {
      "cell_type": "code",
      "execution_count": 44,
      "outputs": [
        {
          "output_type": "display_data",
          "data": {
            "application/vnd.livy.statement-meta+json": {
              "spark_pool": "CLSYNB",
              "statement_id": 45,
              "statement_ids": [
                45
              ],
              "state": "finished",
              "livy_statement_state": "available",
              "spark_jobs": null,
              "session_id": "31",
              "normalized_state": "finished",
              "queued_time": "2025-08-20T06:52:42.1081654Z",
              "session_start_time": null,
              "execution_start_time": "2025-08-20T06:53:04.2218166Z",
              "execution_finish_time": "2025-08-20T06:53:13.1997201Z",
              "parent_msg_id": "53a49706-8a4a-461a-aa98-2212339d8c4f"
            },
            "text/plain": "StatementMeta(CLSYNB, 31, 45, Finished, Available, Finished)"
          },
          "metadata": {}
        }
      ],
      "metadata": {},
      "source": [
        "from sklearn.mixture import GaussianMixture\n",
        "\n",
        "def remove_flow_outliers(df):\n",
        "    log_transform = np.log1p(df[\"flow\"].abs()) # log transform to rein in long tails\n",
        "    gmm = GaussianMixture(n_components=2, random_state=123) # GaussianMixture to handle bimodal distributions\n",
        "    gmm.fit(log_transform.to_frame())\n",
        "    means = gmm.means_.flatten()\n",
        "    stds = (gmm.covariances_**0.5).flatten()\n",
        "    \n",
        "    # identify 3sigma cutoff for outliers\n",
        "    mode1cutoff = means[0]+3*stds[0]\n",
        "    mode2cutoff = means[1]+3*stds[1]\n",
        "    \n",
        "    # select indexes of rows greater than 3sigma cutoff\n",
        "    cutoff_indexes = log_transform.loc[log_transform > max(mode1cutoff,mode2cutoff)].index\n",
        "    \n",
        "    # drop cutoff indexes\n",
        "    return df.drop(cutoff_indexes)\n",
        "\n",
        "if not flow.empty:\n",
        "    arrivals = remove_flow_outliers(arrivals)\n",
        "    departures = remove_flow_outliers(departures)"
      ]
    },
    {
      "cell_type": "markdown",
      "metadata": {},
      "source": [
        "## Humidity"
      ]
    },
    {
      "cell_type": "code",
      "execution_count": 45,
      "outputs": [
        {
          "output_type": "display_data",
          "data": {
            "application/vnd.livy.statement-meta+json": {
              "spark_pool": "CLSYNB",
              "statement_id": 46,
              "statement_ids": [
                46
              ],
              "state": "finished",
              "livy_statement_state": "available",
              "spark_jobs": null,
              "session_id": "31",
              "normalized_state": "finished",
              "queued_time": "2025-08-20T06:52:42.3076627Z",
              "session_start_time": null,
              "execution_start_time": "2025-08-20T06:53:13.2136957Z",
              "execution_finish_time": "2025-08-20T06:53:13.5081386Z",
              "parent_msg_id": "c4221718-b269-4f42-a0af-1b3c1118b72a"
            },
            "text/plain": "StatementMeta(CLSYNB, 31, 46, Finished, Available, Finished)"
          },
          "metadata": {}
        },
        {
          "output_type": "execute_result",
          "data": {
            "text/plain": "count    1749.000000\nmean       83.987816\nstd        26.501959\nmin      -100.000000\n25%        79.330000\n50%        91.070000\n75%        96.610000\nmax       100.000000\nName: humidity, dtype: float64"
          },
          "execution_count": 93,
          "metadata": {}
        }
      ],
      "metadata": {
        "id": "730b543f-941c-4daf-a1fa-ca60a11c4c52",
        "outputId": "4027f5dd-e6d9-43d7-ae9f-c3566127f559"
      },
      "source": [
        "humidity['humidity'].describe() # humidity should not be negative"
      ]
    },
    {
      "cell_type": "code",
      "execution_count": 46,
      "outputs": [
        {
          "output_type": "display_data",
          "data": {
            "application/vnd.livy.statement-meta+json": {
              "spark_pool": "CLSYNB",
              "statement_id": 47,
              "statement_ids": [
                47
              ],
              "state": "finished",
              "livy_statement_state": "available",
              "spark_jobs": null,
              "session_id": "31",
              "normalized_state": "finished",
              "queued_time": "2025-08-20T06:52:42.417869Z",
              "session_start_time": null,
              "execution_start_time": "2025-08-20T06:53:13.5217561Z",
              "execution_finish_time": "2025-08-20T06:53:14.2695318Z",
              "parent_msg_id": "deccf38f-a3a4-4dbb-840a-6c4b23ab4ab7"
            },
            "text/plain": "StatementMeta(CLSYNB, 31, 47, Finished, Available, Finished)"
          },
          "metadata": {}
        },
        {
          "output_type": "execute_result",
          "data": {
            "text/plain": "<Axes: xlabel='timestamp'>"
          },
          "execution_count": 95,
          "metadata": {}
        },
        {
          "output_type": "display_data",
          "data": {
            "text/plain": "<Figure size 640x480 with 1 Axes>",
            "image/png": "[encoded data removed]"
          },
          "metadata": {}
        }
      ],
      "metadata": {
        "id": "276cc9c8-cbda-437f-b890-8be035f7597f",
        "outputId": "3c7fa1a6-e95a-4733-e8ec-2b415d619062"
      },
      "source": [
        "humidity2 = humidity.copy() # copy to see what happens when fixing values\n",
        "humidity2['humidity'] = humidity2['humidity'].abs() # all positive values\n",
        "humidity2.plot(kind='line', x='timestamp', y='humidity') # doesn't look unreasonable"
      ]
    },
    {
      "cell_type": "code",
      "execution_count": 47,
      "outputs": [
        {
          "output_type": "display_data",
          "data": {
            "application/vnd.livy.statement-meta+json": {
              "spark_pool": "CLSYNB",
              "statement_id": 48,
              "statement_ids": [
                48
              ],
              "state": "finished",
              "livy_statement_state": "available",
              "spark_jobs": null,
              "session_id": "31",
              "normalized_state": "finished",
              "queued_time": "2025-08-20T06:52:42.5244738Z",
              "session_start_time": null,
              "execution_start_time": "2025-08-20T06:53:14.2834055Z",
              "execution_finish_time": "2025-08-20T06:53:14.5551268Z",
              "parent_msg_id": "f9bdb637-a222-4b23-9f07-56d31f63c4b0"
            },
            "text/plain": "StatementMeta(CLSYNB, 31, 48, Finished, Available, Finished)"
          },
          "metadata": {}
        }
      ],
      "metadata": {
        "id": "51441dbd-deba-4fb6-99a9-dc54c3175b8b"
      },
      "source": [
        "humidity['humidity'] = humidity['humidity'].abs() # correct original dataframe"
      ]
    },
    {
      "cell_type": "code",
      "execution_count": 48,
      "outputs": [
        {
          "output_type": "display_data",
          "data": {
            "application/vnd.livy.statement-meta+json": {
              "spark_pool": "CLSYNB",
              "statement_id": 49,
              "statement_ids": [
                49
              ],
              "state": "finished",
              "livy_statement_state": "available",
              "spark_jobs": null,
              "session_id": "31",
              "normalized_state": "finished",
              "queued_time": "2025-08-20T06:52:42.6470163Z",
              "session_start_time": null,
              "execution_start_time": "2025-08-20T06:53:14.5685977Z",
              "execution_finish_time": "2025-08-20T06:53:14.842399Z",
              "parent_msg_id": "1ea112f7-20dd-4483-8d62-f0925b9fdaf8"
            },
            "text/plain": "StatementMeta(CLSYNB, 31, 49, Finished, Available, Finished)"
          },
          "metadata": {}
        },
        {
          "output_type": "stream",
          "name": "stdout",
          "text": [
            "<class 'pandas.core.frame.DataFrame'>\nRangeIndex: 1761 entries, 0 to 1760\nData columns (total 2 columns):\n #   Column     Non-Null Count  Dtype         \n---  ------     --------------  -----         \n 0   timestamp  1761 non-null   datetime64[ns]\n 1   humidity   1749 non-null   float64       \ndtypes: datetime64[ns](1), float64(1)\nmemory usage: 27.6 KB\n"
          ]
        }
      ],
      "metadata": {
        "id": "ee37bc7f-e0ed-4314-a16e-5a2c91bd87a1",
        "outputId": "7cbb004a-2f8d-4293-ae80-7d3798d48e3a"
      },
      "source": [
        "humidity.info()"
      ]
    },
    {
      "cell_type": "code",
      "execution_count": 49,
      "outputs": [
        {
          "output_type": "display_data",
          "data": {
            "application/vnd.livy.statement-meta+json": {
              "spark_pool": "CLSYNB",
              "statement_id": 50,
              "statement_ids": [
                50
              ],
              "state": "finished",
              "livy_statement_state": "available",
              "spark_jobs": null,
              "session_id": "31",
              "normalized_state": "finished",
              "queued_time": "2025-08-20T06:52:42.7558452Z",
              "session_start_time": null,
              "execution_start_time": "2025-08-20T06:53:14.8567653Z",
              "execution_finish_time": "2025-08-20T06:53:15.1230812Z",
              "parent_msg_id": "1115efba-616f-4f92-92fd-b0d8413cd017"
            },
            "text/plain": "StatementMeta(CLSYNB, 31, 50, Finished, Available, Finished)"
          },
          "metadata": {}
        },
        {
          "output_type": "execute_result",
          "data": {
            "text/plain": "0 days 12:00:00    1755\n0 days 13:00:00       3\n0 days 11:00:00       2\nName: timestamp, dtype: int64"
          },
          "execution_count": 101,
          "metadata": {}
        }
      ],
      "metadata": {
        "id": "73f4ada4-030a-47aa-aa97-b12b72b87540",
        "outputId": "e4866857-b62b-48a4-fcf6-23263d0ca47b"
      },
      "source": [
        "(humidity['timestamp'] - humidity['timestamp'].shift(1)).value_counts() # looks very regular if we assume the time changes"
      ]
    },
    {
      "cell_type": "code",
      "execution_count": 50,
      "outputs": [
        {
          "output_type": "display_data",
          "data": {
            "application/vnd.livy.statement-meta+json": {
              "spark_pool": "CLSYNB",
              "statement_id": 51,
              "statement_ids": [
                51
              ],
              "state": "finished",
              "livy_statement_state": "available",
              "spark_jobs": null,
              "session_id": "31",
              "normalized_state": "finished",
              "queued_time": "2025-08-20T06:52:42.8592048Z",
              "session_start_time": null,
              "execution_start_time": "2025-08-20T06:53:15.1377098Z",
              "execution_finish_time": "2025-08-20T06:53:15.4034207Z",
              "parent_msg_id": "9e0b97e8-d1ed-41a8-9dca-24668057fc7a"
            },
            "text/plain": "StatementMeta(CLSYNB, 31, 51, Finished, Available, Finished)"
          },
          "metadata": {}
        }
      ],
      "metadata": {
        "id": "8fd46afb-1f8d-40fd-ba55-9ef1ff8f1ffd"
      },
      "source": [
        "# humidity['timestamp'].dt.tz_localize(\"Europe/Berlin\", ambiguous='infer')\n",
        "# cannot infer dst status"
      ]
    },
    {
      "cell_type": "code",
      "execution_count": 51,
      "outputs": [
        {
          "output_type": "display_data",
          "data": {
            "application/vnd.livy.statement-meta+json": {
              "spark_pool": "CLSYNB",
              "statement_id": 52,
              "statement_ids": [
                52
              ],
              "state": "finished",
              "livy_statement_state": "available",
              "spark_jobs": null,
              "session_id": "31",
              "normalized_state": "finished",
              "queued_time": "2025-08-20T06:52:42.9723417Z",
              "session_start_time": null,
              "execution_start_time": "2025-08-20T06:53:15.4166511Z",
              "execution_finish_time": "2025-08-20T06:53:15.6660709Z",
              "parent_msg_id": "80a91b2f-390f-48a4-8133-d2d2d6bbb6e2"
            },
            "text/plain": "StatementMeta(CLSYNB, 31, 52, Finished, Available, Finished)"
          },
          "metadata": {}
        },
        {
          "output_type": "execute_result",
          "data": {
            "text/plain": "               timestamp  humidity\n1326 2018-10-26 14:00:00     95.02\n1327 2018-10-27 02:00:00     95.60\n1328 2018-10-27 14:00:00     95.94\n1329 2018-10-28 02:00:00     96.52\n1330 2018-10-28 13:00:00     96.55\n1331 2018-10-29 01:00:00     96.03\n1332 2018-10-29 13:00:00     95.57",
            "text/html": "<div>\n<style scoped>\n    .dataframe tbody tr th:only-of-type {\n        vertical-align: middle;\n    }\n\n    .dataframe tbody tr th {\n        vertical-align: top;\n    }\n\n    .dataframe thead th {\n        text-align: right;\n    }\n</style>\n<table border=\"1\" class=\"dataframe\">\n  <thead>\n    <tr style=\"text-align: right;\">\n      <th></th>\n      <th>timestamp</th>\n      <th>humidity</th>\n    </tr>\n  </thead>\n  <tbody>\n    <tr>\n      <th>1326</th>\n      <td>2018-10-26 14:00:00</td>\n      <td>95.02</td>\n    </tr>\n    <tr>\n      <th>1327</th>\n      <td>2018-10-27 02:00:00</td>\n      <td>95.60</td>\n    </tr>\n    <tr>\n      <th>1328</th>\n      <td>2018-10-27 14:00:00</td>\n      <td>95.94</td>\n    </tr>\n    <tr>\n      <th>1329</th>\n      <td>2018-10-28 02:00:00</td>\n      <td>96.52</td>\n    </tr>\n    <tr>\n      <th>1330</th>\n      <td>2018-10-28 13:00:00</td>\n      <td>96.55</td>\n    </tr>\n    <tr>\n      <th>1331</th>\n      <td>2018-10-29 01:00:00</td>\n      <td>96.03</td>\n    </tr>\n    <tr>\n      <th>1332</th>\n      <td>2018-10-29 13:00:00</td>\n      <td>95.57</td>\n    </tr>\n  </tbody>\n</table>\n</div>"
          },
          "execution_count": 105,
          "metadata": {}
        }
      ],
      "metadata": {
        "colab": {
          "base_uri": "https://localhost:8080/",
          "height": 269
        },
        "id": "5a766881-ae4d-460f-80c7-7e0cce8b1e2e",
        "outputId": "2013bca0-5067-4d40-f7b7-b9cddf0dd24c"
      },
      "source": [
        "# investigate problem dates\n",
        "humidity.loc[humidity['timestamp'].dt.strftime('%Y-%m-%d') == '2017-10-29'] # indexes 601:602\n",
        "humidity.loc[humidity['timestamp'].dt.strftime('%Y-%m-%d') == '2018-10-28'] # indexes 1329:1330\n",
        "\n",
        "# zoom out a little to get the pattern of measurements\n",
        "humidity.loc[598:604]\n",
        "humidity.loc[1326:1332]\n",
        "\n",
        "\n",
        "# it seems all ambiguous dates (at 2am) are recorded BEFORE the clocks change"
      ]
    },
    {
      "cell_type": "code",
      "execution_count": 52,
      "outputs": [
        {
          "output_type": "display_data",
          "data": {
            "application/vnd.livy.statement-meta+json": {
              "spark_pool": "CLSYNB",
              "statement_id": 53,
              "statement_ids": [
                53
              ],
              "state": "finished",
              "livy_statement_state": "available",
              "spark_jobs": null,
              "session_id": "31",
              "normalized_state": "finished",
              "queued_time": "2025-08-20T06:52:43.3022643Z",
              "session_start_time": null,
              "execution_start_time": "2025-08-20T06:53:15.6796179Z",
              "execution_finish_time": "2025-08-20T06:53:15.9387069Z",
              "parent_msg_id": "b4be18e2-beff-4555-a26a-fb9bff540184"
            },
            "text/plain": "StatementMeta(CLSYNB, 31, 53, Finished, Available, Finished)"
          },
          "metadata": {}
        },
        {
          "output_type": "execute_result",
          "data": {
            "text/plain": "0       True\n1       True\n2       True\n3       True\n4       True\n        ... \n1756    True\n1757    True\n1758    True\n1759    True\n1760    True\nLength: 1761, dtype: bool"
          },
          "execution_count": 107,
          "metadata": {}
        }
      ],
      "metadata": {
        "id": "a4effacd-1b50-48a1-aba4-7cbcfc85e23a",
        "outputId": "bd9cb1f3-9bdf-442e-bdf9-e47477995b90"
      },
      "source": [
        "pd.Series(True, index=humidity.index) # can we make a Series of True with the same shape as the 'humidity' column?"
      ]
    },
    {
      "cell_type": "code",
      "execution_count": 53,
      "outputs": [
        {
          "output_type": "display_data",
          "data": {
            "application/vnd.livy.statement-meta+json": {
              "spark_pool": "CLSYNB",
              "statement_id": 54,
              "statement_ids": [
                54
              ],
              "state": "finished",
              "livy_statement_state": "available",
              "spark_jobs": null,
              "session_id": "31",
              "normalized_state": "finished",
              "queued_time": "2025-08-20T06:52:43.7023079Z",
              "session_start_time": null,
              "execution_start_time": "2025-08-20T06:53:15.9523553Z",
              "execution_finish_time": "2025-08-20T06:53:16.2013978Z",
              "parent_msg_id": "587255e1-6576-4f21-8744-805b5696ca76"
            },
            "text/plain": "StatementMeta(CLSYNB, 31, 54, Finished, Available, Finished)"
          },
          "metadata": {}
        }
      ],
      "metadata": {
        "id": "d545052b-878b-4df9-b941-6ea42945ed3b"
      },
      "source": [
        "# any ambiguous times ARE in daylight saving (summer time)\n",
        "humidity['timestamp'] = humidity['timestamp'].dt.tz_localize(\"Europe/Berlin\", ambiguous=pd.Series(True, index=humidity.index)).dt.tz_convert(\"UTC\")"
      ]
    },
    {
      "cell_type": "code",
      "execution_count": 54,
      "outputs": [
        {
          "output_type": "display_data",
          "data": {
            "application/vnd.livy.statement-meta+json": {
              "spark_pool": "CLSYNB",
              "statement_id": 55,
              "statement_ids": [
                55
              ],
              "state": "finished",
              "livy_statement_state": "available",
              "spark_jobs": null,
              "session_id": "31",
              "normalized_state": "finished",
              "queued_time": "2025-08-20T06:52:44.1160034Z",
              "session_start_time": null,
              "execution_start_time": "2025-08-20T06:53:16.2143033Z",
              "execution_finish_time": "2025-08-20T06:53:16.4716347Z",
              "parent_msg_id": "8d6e9e95-754c-4649-af12-9ff9ebc6622a"
            },
            "text/plain": "StatementMeta(CLSYNB, 31, 55, Finished, Available, Finished)"
          },
          "metadata": {}
        },
        {
          "output_type": "execute_result",
          "data": {
            "text/plain": "0"
          },
          "execution_count": 111,
          "metadata": {}
        }
      ],
      "metadata": {
        "id": "40e41ae0-50fe-460f-92f8-c8dceebb7cbb",
        "outputId": "92dcf90e-b49d-4e77-cd23-fb4846a40ee3"
      },
      "source": [
        "humidity.duplicated().sum()"
      ]
    },
    {
      "cell_type": "code",
      "execution_count": 55,
      "outputs": [
        {
          "output_type": "display_data",
          "data": {
            "application/vnd.livy.statement-meta+json": {
              "spark_pool": "CLSYNB",
              "statement_id": 56,
              "statement_ids": [
                56
              ],
              "state": "finished",
              "livy_statement_state": "available",
              "spark_jobs": null,
              "session_id": "31",
              "normalized_state": "finished",
              "queued_time": "2025-08-20T06:52:44.7495021Z",
              "session_start_time": null,
              "execution_start_time": "2025-08-20T06:53:16.4867231Z",
              "execution_finish_time": "2025-08-20T06:53:16.7460961Z",
              "parent_msg_id": "c5b07cd0-16ac-4581-bfdc-d6b65f4cddf2"
            },
            "text/plain": "StatementMeta(CLSYNB, 31, 56, Finished, Available, Finished)"
          },
          "metadata": {}
        },
        {
          "output_type": "execute_result",
          "data": {
            "text/plain": "                     timestamp  humidity\n378  2017-07-09 12:00:00+00:00       NaN\n379  2017-07-10 00:00:00+00:00       NaN\n380  2017-07-10 12:00:00+00:00       NaN\n381  2017-07-11 00:00:00+00:00       NaN\n382  2017-07-11 12:00:00+00:00       NaN\n383  2017-07-12 00:00:00+00:00       NaN\n384  2017-07-12 12:00:00+00:00       NaN\n385  2017-07-13 00:00:00+00:00       NaN\n386  2017-07-13 12:00:00+00:00       NaN\n387  2017-07-14 00:00:00+00:00       NaN\n1593 2019-03-09 00:00:00+00:00       NaN\n1594 2019-03-09 12:00:00+00:00       NaN",
            "text/html": "<div>\n<style scoped>\n    .dataframe tbody tr th:only-of-type {\n        vertical-align: middle;\n    }\n\n    .dataframe tbody tr th {\n        vertical-align: top;\n    }\n\n    .dataframe thead th {\n        text-align: right;\n    }\n</style>\n<table border=\"1\" class=\"dataframe\">\n  <thead>\n    <tr style=\"text-align: right;\">\n      <th></th>\n      <th>timestamp</th>\n      <th>humidity</th>\n    </tr>\n  </thead>\n  <tbody>\n    <tr>\n      <th>378</th>\n      <td>2017-07-09 12:00:00+00:00</td>\n      <td>NaN</td>\n    </tr>\n    <tr>\n      <th>379</th>\n      <td>2017-07-10 00:00:00+00:00</td>\n      <td>NaN</td>\n    </tr>\n    <tr>\n      <th>380</th>\n      <td>2017-07-10 12:00:00+00:00</td>\n      <td>NaN</td>\n    </tr>\n    <tr>\n      <th>381</th>\n      <td>2017-07-11 00:00:00+00:00</td>\n      <td>NaN</td>\n    </tr>\n    <tr>\n      <th>382</th>\n      <td>2017-07-11 12:00:00+00:00</td>\n      <td>NaN</td>\n    </tr>\n    <tr>\n      <th>383</th>\n      <td>2017-07-12 00:00:00+00:00</td>\n      <td>NaN</td>\n    </tr>\n    <tr>\n      <th>384</th>\n      <td>2017-07-12 12:00:00+00:00</td>\n      <td>NaN</td>\n    </tr>\n    <tr>\n      <th>385</th>\n      <td>2017-07-13 00:00:00+00:00</td>\n      <td>NaN</td>\n    </tr>\n    <tr>\n      <th>386</th>\n      <td>2017-07-13 12:00:00+00:00</td>\n      <td>NaN</td>\n    </tr>\n    <tr>\n      <th>387</th>\n      <td>2017-07-14 00:00:00+00:00</td>\n      <td>NaN</td>\n    </tr>\n    <tr>\n      <th>1593</th>\n      <td>2019-03-09 00:00:00+00:00</td>\n      <td>NaN</td>\n    </tr>\n    <tr>\n      <th>1594</th>\n      <td>2019-03-09 12:00:00+00:00</td>\n      <td>NaN</td>\n    </tr>\n  </tbody>\n</table>\n</div>"
          },
          "execution_count": 113,
          "metadata": {}
        }
      ],
      "metadata": {
        "id": "85ac4a30-9c78-4cc4-a47b-df19fdd09d1c",
        "outputId": "cd839742-9742-4f36-a30d-77e6a8b481ae"
      },
      "source": [
        "humidity.loc[humidity['humidity'].isnull()] # look at null values for pattern\n",
        "\n",
        "# was there some problem at the site for sereral days? storm? sickness?"
      ]
    },
    {
      "cell_type": "markdown",
      "metadata": {},
      "source": [
        "## Temperature"
      ]
    },
    {
      "cell_type": "code",
      "execution_count": 56,
      "outputs": [
        {
          "output_type": "display_data",
          "data": {
            "application/vnd.livy.statement-meta+json": {
              "spark_pool": "CLSYNB",
              "statement_id": 57,
              "statement_ids": [
                57
              ],
              "state": "finished",
              "livy_statement_state": "available",
              "spark_jobs": null,
              "session_id": "31",
              "normalized_state": "finished",
              "queued_time": "2025-08-20T06:52:45.3222619Z",
              "session_start_time": null,
              "execution_start_time": "2025-08-20T06:53:16.7600326Z",
              "execution_finish_time": "2025-08-20T06:53:17.015772Z",
              "parent_msg_id": "dad9dd73-a78a-47c0-b3bc-88467d81cf95"
            },
            "text/plain": "StatementMeta(CLSYNB, 31, 57, Finished, Available, Finished)"
          },
          "metadata": {}
        }
      ],
      "metadata": {
        "id": "25a31985-1c2f-41f8-8264-f389a13172c3"
      },
      "source": [
        "# convert to UTC\n",
        "temperature['timestamp'] = temperature['timestamp'].dt.tz_localize(\"Europe/Berlin\", ambiguous=\"infer\").dt.tz_convert(\"UTC\")"
      ]
    },
    {
      "cell_type": "code",
      "execution_count": 57,
      "outputs": [
        {
          "output_type": "display_data",
          "data": {
            "application/vnd.livy.statement-meta+json": {
              "spark_pool": "CLSYNB",
              "statement_id": 58,
              "statement_ids": [
                58
              ],
              "state": "finished",
              "livy_statement_state": "available",
              "spark_jobs": null,
              "session_id": "31",
              "normalized_state": "finished",
              "queued_time": "2025-08-20T06:52:46.1192033Z",
              "session_start_time": null,
              "execution_start_time": "2025-08-20T06:53:17.0300231Z",
              "execution_finish_time": "2025-08-20T06:53:17.2930327Z",
              "parent_msg_id": "fe9d8d93-630d-4dea-af30-c9cdef3f0e43"
            },
            "text/plain": "StatementMeta(CLSYNB, 31, 58, Finished, Available, Finished)"
          },
          "metadata": {}
        },
        {
          "output_type": "execute_result",
          "data": {
            "text/plain": "count    251398.000000\nmean         22.609671\nstd          11.702222\nmin          -7.260000\n25%          12.450000\n50%          24.480000\n75%          34.220000\nmax          37.530000\nName: temperature, dtype: float64"
          },
          "execution_count": 117,
          "metadata": {}
        }
      ],
      "metadata": {
        "id": "78fa966b-2680-4fea-a9f2-7e4c339e4a28",
        "outputId": "7839f865-5872-40ed-da46-99102bef01fa"
      },
      "source": [
        "temperature[\"temperature\"].describe() # these temps seem high at first glance, but normal if measured inside the beehive"
      ]
    },
    {
      "cell_type": "code",
      "execution_count": 58,
      "outputs": [
        {
          "output_type": "display_data",
          "data": {
            "application/vnd.livy.statement-meta+json": {
              "spark_pool": "CLSYNB",
              "statement_id": 59,
              "statement_ids": [
                59
              ],
              "state": "finished",
              "livy_statement_state": "available",
              "spark_jobs": null,
              "session_id": "31",
              "normalized_state": "finished",
              "queued_time": "2025-08-20T06:52:46.6199997Z",
              "session_start_time": null,
              "execution_start_time": "2025-08-20T06:53:17.3207992Z",
              "execution_finish_time": "2025-08-20T06:53:17.5762014Z",
              "parent_msg_id": "e8844685-2e38-4b3a-9066-49c7c9b42cbf"
            },
            "text/plain": "StatementMeta(CLSYNB, 31, 59, Finished, Available, Finished)"
          },
          "metadata": {}
        },
        {
          "output_type": "execute_result",
          "data": {
            "text/plain": "2017-07-10    288\n2017-07-12    288\n2017-07-11    288\n2017-07-13    288\n2019-03-09    288\n2017-07-09    249\n2017-07-14    153\n2018-04-28    142\n2018-05-16     32\n2019-03-08     15\n2017-01-01      1\nName: timestamp, dtype: int64"
          },
          "execution_count": 119,
          "metadata": {}
        }
      ],
      "metadata": {
        "id": "1aeb276a-ba3f-4a56-b6c5-87a15f21ecb1",
        "outputId": "40a4571a-bf04-4d1c-dbc4-b1fdeb57ee30"
      },
      "source": [
        "# where is data missing? several whole days clustered together (one whole day by itself), and scattered at other times\n",
        "temperature.loc[temperature['temperature'].isna(), 'timestamp'].dt.date.value_counts()"
      ]
    },
    {
      "cell_type": "code",
      "execution_count": 59,
      "outputs": [
        {
          "output_type": "display_data",
          "data": {
            "application/vnd.livy.statement-meta+json": {
              "spark_pool": "CLSYNB",
              "statement_id": 60,
              "statement_ids": [
                60
              ],
              "state": "finished",
              "livy_statement_state": "available",
              "spark_jobs": null,
              "session_id": "31",
              "normalized_state": "finished",
              "queued_time": "2025-08-20T06:52:46.9820315Z",
              "session_start_time": null,
              "execution_start_time": "2025-08-20T06:53:17.5882214Z",
              "execution_finish_time": "2025-08-20T06:53:17.8368731Z",
              "parent_msg_id": "cf8e9ab0-4c7a-4c1e-9637-6f10931acc52"
            },
            "text/plain": "StatementMeta(CLSYNB, 31, 60, Finished, Available, Finished)"
          },
          "metadata": {}
        },
        {
          "output_type": "execute_result",
          "data": {
            "text/plain": "0"
          },
          "execution_count": 121,
          "metadata": {}
        }
      ],
      "metadata": {
        "id": "e8215ec4-d604-4246-9074-0611c4f4ff74",
        "outputId": "6f34b3cd-d53b-4c06-a089-a6c928b7918b"
      },
      "source": [
        "temperature.duplicated().sum()"
      ]
    },
    {
      "cell_type": "markdown",
      "metadata": {},
      "source": [
        "## Weight"
      ]
    },
    {
      "cell_type": "code",
      "execution_count": 60,
      "outputs": [
        {
          "output_type": "display_data",
          "data": {
            "application/vnd.livy.statement-meta+json": {
              "spark_pool": "CLSYNB",
              "statement_id": 61,
              "statement_ids": [
                61
              ],
              "state": "finished",
              "livy_statement_state": "available",
              "spark_jobs": null,
              "session_id": "31",
              "normalized_state": "finished",
              "queued_time": "2025-08-20T06:52:47.3657908Z",
              "session_start_time": null,
              "execution_start_time": "2025-08-20T06:53:17.8525088Z",
              "execution_finish_time": "2025-08-20T06:53:18.1619483Z",
              "parent_msg_id": "24122ad1-e79d-4f86-9a4c-879ec866e68d"
            },
            "text/plain": "StatementMeta(CLSYNB, 31, 61, Finished, Available, Finished)"
          },
          "metadata": {}
        }
      ],
      "metadata": {
        "id": "95b0cb63-fdab-4e7c-9c1f-f770fbddc342"
      },
      "source": [
        "# same logic applies as with humidity\n",
        "weight['timestamp'] = weight['timestamp'].dt.tz_localize(\"Europe/Berlin\", ambiguous=pd.Series(True, index=weight.index)).dt.tz_convert(\"UTC\")"
      ]
    },
    {
      "cell_type": "code",
      "execution_count": 61,
      "outputs": [
        {
          "output_type": "display_data",
          "data": {
            "application/vnd.livy.statement-meta+json": {
              "spark_pool": "CLSYNB",
              "statement_id": 62,
              "statement_ids": [
                62
              ],
              "state": "finished",
              "livy_statement_state": "available",
              "spark_jobs": null,
              "session_id": "31",
              "normalized_state": "finished",
              "queued_time": "2025-08-20T06:52:47.5141786Z",
              "session_start_time": null,
              "execution_start_time": "2025-08-20T06:53:18.1754268Z",
              "execution_finish_time": "2025-08-20T06:53:18.4485351Z",
              "parent_msg_id": "62c74523-9320-464f-8891-17cd8b5ca3cc"
            },
            "text/plain": "StatementMeta(CLSYNB, 31, 62, Finished, Available, Finished)"
          },
          "metadata": {}
        },
        {
          "output_type": "execute_result",
          "data": {
            "text/plain": "0"
          },
          "execution_count": 125,
          "metadata": {}
        }
      ],
      "metadata": {
        "id": "ac35cd0b-e22c-49f2-b2e8-8655a86dc8be",
        "outputId": "0466930a-bb08-4b7b-fbc8-2591e2fc0226"
      },
      "source": [
        "weight.duplicated().sum()"
      ]
    },
    {
      "cell_type": "code",
      "execution_count": 62,
      "outputs": [
        {
          "output_type": "display_data",
          "data": {
            "application/vnd.livy.statement-meta+json": {
              "spark_pool": "CLSYNB",
              "statement_id": 63,
              "statement_ids": [
                63
              ],
              "state": "finished",
              "livy_statement_state": "available",
              "spark_jobs": null,
              "session_id": "31",
              "normalized_state": "finished",
              "queued_time": "2025-08-20T06:52:47.8547518Z",
              "session_start_time": null,
              "execution_start_time": "2025-08-20T06:53:18.4624765Z",
              "execution_finish_time": "2025-08-20T06:53:18.7122078Z",
              "parent_msg_id": "2777970f-168b-46e0-a336-262c21cb4460"
            },
            "text/plain": "StatementMeta(CLSYNB, 31, 63, Finished, Available, Finished)"
          },
          "metadata": {}
        },
        {
          "output_type": "execute_result",
          "data": {
            "text/plain": "count     1749.000000\nmean     56807.637313\nstd      16926.937629\nmin       -172.440000\n25%      49793.360000\n50%      58029.270000\n75%      67322.570000\nmax      92042.230000\nName: weight, dtype: float64"
          },
          "execution_count": 127,
          "metadata": {}
        }
      ],
      "metadata": {
        "id": "33675cdf-93ce-4ef9-afd2-4a282401e3fc",
        "outputId": "07cd5231-dd0b-45af-b7f3-c607d8b4ed15"
      },
      "source": [
        "weight['weight'].describe() # I'd guess measurements are in grams\n",
        "\n",
        "# cannot have negative weight"
      ]
    },
    {
      "cell_type": "code",
      "execution_count": 63,
      "outputs": [
        {
          "output_type": "display_data",
          "data": {
            "application/vnd.livy.statement-meta+json": {
              "spark_pool": "CLSYNB",
              "statement_id": 64,
              "statement_ids": [
                64
              ],
              "state": "finished",
              "livy_statement_state": "available",
              "spark_jobs": null,
              "session_id": "31",
              "normalized_state": "finished",
              "queued_time": "2025-08-20T06:52:48.0325759Z",
              "session_start_time": null,
              "execution_start_time": "2025-08-20T06:53:18.7246755Z",
              "execution_finish_time": "2025-08-20T06:53:18.9866085Z",
              "parent_msg_id": "1d37df8f-9bf5-4153-a349-2e07b7c59b45"
            },
            "text/plain": "StatementMeta(CLSYNB, 31, 64, Finished, Available, Finished)"
          },
          "metadata": {}
        },
        {
          "output_type": "execute_result",
          "data": {
            "text/plain": "                     timestamp  weight\n964  2018-04-28 12:00:00+00:00 -170.61\n965  2018-04-29 00:00:00+00:00 -172.44\n966  2018-04-29 12:00:00+00:00 -167.10\n1001 2018-05-17 00:00:00+00:00 -101.54\n1061 2018-06-16 00:00:00+00:00 -157.49\n1062 2018-06-16 12:00:00+00:00 -143.38\n1063 2018-06-17 00:00:00+00:00 -157.63\n1064 2018-06-17 12:00:00+00:00 -149.62\n1065 2018-06-18 00:00:00+00:00 -162.12\n1066 2018-06-18 12:00:00+00:00 -147.43\n1067 2018-06-19 00:00:00+00:00 -158.07\n1068 2018-06-19 12:00:00+00:00 -146.25\n1069 2018-06-20 00:00:00+00:00 -163.08\n1070 2018-06-20 12:00:00+00:00 -126.31\n1071 2018-06-21 00:00:00+00:00 -159.72\n1072 2018-06-21 12:00:00+00:00 -171.86\n1073 2018-06-22 00:00:00+00:00 -171.31\n1074 2018-06-22 12:00:00+00:00 -153.65\n1075 2018-06-23 00:00:00+00:00 -172.27\n1076 2018-06-23 12:00:00+00:00 -163.46\n1077 2018-06-24 00:00:00+00:00 -171.78\n1078 2018-06-24 12:00:00+00:00 -161.27\n1079 2018-06-25 00:00:00+00:00 -171.93\n1080 2018-06-25 12:00:00+00:00 -153.29\n1081 2018-06-26 00:00:00+00:00 -163.23\n1082 2018-06-26 12:00:00+00:00 -135.29\n1083 2018-06-27 00:00:00+00:00 -154.08\n1084 2018-06-27 12:00:00+00:00 -137.20\n1085 2018-06-28 00:00:00+00:00 -151.89\n1086 2018-06-28 12:00:00+00:00 -133.50\n1087 2018-06-29 00:00:00+00:00 -155.79\n1088 2018-06-29 12:00:00+00:00 -132.05\n1089 2018-06-30 00:00:00+00:00 -162.01\n1090 2018-06-30 12:00:00+00:00 -137.79\n1091 2018-07-01 00:00:00+00:00 -164.99\n1092 2018-07-01 12:00:00+00:00 -143.99\n1093 2018-07-02 00:00:00+00:00 -168.38",
            "text/html": "<div>\n<style scoped>\n    .dataframe tbody tr th:only-of-type {\n        vertical-align: middle;\n    }\n\n    .dataframe tbody tr th {\n        vertical-align: top;\n    }\n\n    .dataframe thead th {\n        text-align: right;\n    }\n</style>\n<table border=\"1\" class=\"dataframe\">\n  <thead>\n    <tr style=\"text-align: right;\">\n      <th></th>\n      <th>timestamp</th>\n      <th>weight</th>\n    </tr>\n  </thead>\n  <tbody>\n    <tr>\n      <th>964</th>\n      <td>2018-04-28 12:00:00+00:00</td>\n      <td>-170.61</td>\n    </tr>\n    <tr>\n      <th>965</th>\n      <td>2018-04-29 00:00:00+00:00</td>\n      <td>-172.44</td>\n    </tr>\n    <tr>\n      <th>966</th>\n      <td>2018-04-29 12:00:00+00:00</td>\n      <td>-167.10</td>\n    </tr>\n    <tr>\n      <th>1001</th>\n      <td>2018-05-17 00:00:00+00:00</td>\n      <td>-101.54</td>\n    </tr>\n    <tr>\n      <th>1061</th>\n      <td>2018-06-16 00:00:00+00:00</td>\n      <td>-157.49</td>\n    </tr>\n    <tr>\n      <th>1062</th>\n      <td>2018-06-16 12:00:00+00:00</td>\n      <td>-143.38</td>\n    </tr>\n    <tr>\n      <th>1063</th>\n      <td>2018-06-17 00:00:00+00:00</td>\n      <td>-157.63</td>\n    </tr>\n    <tr>\n      <th>1064</th>\n      <td>2018-06-17 12:00:00+00:00</td>\n      <td>-149.62</td>\n    </tr>\n    <tr>\n      <th>1065</th>\n      <td>2018-06-18 00:00:00+00:00</td>\n      <td>-162.12</td>\n    </tr>\n    <tr>\n      <th>1066</th>\n      <td>2018-06-18 12:00:00+00:00</td>\n      <td>-147.43</td>\n    </tr>\n    <tr>\n      <th>1067</th>\n      <td>2018-06-19 00:00:00+00:00</td>\n      <td>-158.07</td>\n    </tr>\n    <tr>\n      <th>1068</th>\n      <td>2018-06-19 12:00:00+00:00</td>\n      <td>-146.25</td>\n    </tr>\n    <tr>\n      <th>1069</th>\n      <td>2018-06-20 00:00:00+00:00</td>\n      <td>-163.08</td>\n    </tr>\n    <tr>\n      <th>1070</th>\n      <td>2018-06-20 12:00:00+00:00</td>\n      <td>-126.31</td>\n    </tr>\n    <tr>\n      <th>1071</th>\n      <td>2018-06-21 00:00:00+00:00</td>\n      <td>-159.72</td>\n    </tr>\n    <tr>\n      <th>1072</th>\n      <td>2018-06-21 12:00:00+00:00</td>\n      <td>-171.86</td>\n    </tr>\n    <tr>\n      <th>1073</th>\n      <td>2018-06-22 00:00:00+00:00</td>\n      <td>-171.31</td>\n    </tr>\n    <tr>\n      <th>1074</th>\n      <td>2018-06-22 12:00:00+00:00</td>\n      <td>-153.65</td>\n    </tr>\n    <tr>\n      <th>1075</th>\n      <td>2018-06-23 00:00:00+00:00</td>\n      <td>-172.27</td>\n    </tr>\n    <tr>\n      <th>1076</th>\n      <td>2018-06-23 12:00:00+00:00</td>\n      <td>-163.46</td>\n    </tr>\n    <tr>\n      <th>1077</th>\n      <td>2018-06-24 00:00:00+00:00</td>\n      <td>-171.78</td>\n    </tr>\n    <tr>\n      <th>1078</th>\n      <td>2018-06-24 12:00:00+00:00</td>\n      <td>-161.27</td>\n    </tr>\n    <tr>\n      <th>1079</th>\n      <td>2018-06-25 00:00:00+00:00</td>\n      <td>-171.93</td>\n    </tr>\n    <tr>\n      <th>1080</th>\n      <td>2018-06-25 12:00:00+00:00</td>\n      <td>-153.29</td>\n    </tr>\n    <tr>\n      <th>1081</th>\n      <td>2018-06-26 00:00:00+00:00</td>\n      <td>-163.23</td>\n    </tr>\n    <tr>\n      <th>1082</th>\n      <td>2018-06-26 12:00:00+00:00</td>\n      <td>-135.29</td>\n    </tr>\n    <tr>\n      <th>1083</th>\n      <td>2018-06-27 00:00:00+00:00</td>\n      <td>-154.08</td>\n    </tr>\n    <tr>\n      <th>1084</th>\n      <td>2018-06-27 12:00:00+00:00</td>\n      <td>-137.20</td>\n    </tr>\n    <tr>\n      <th>1085</th>\n      <td>2018-06-28 00:00:00+00:00</td>\n      <td>-151.89</td>\n    </tr>\n    <tr>\n      <th>1086</th>\n      <td>2018-06-28 12:00:00+00:00</td>\n      <td>-133.50</td>\n    </tr>\n    <tr>\n      <th>1087</th>\n      <td>2018-06-29 00:00:00+00:00</td>\n      <td>-155.79</td>\n    </tr>\n    <tr>\n      <th>1088</th>\n      <td>2018-06-29 12:00:00+00:00</td>\n      <td>-132.05</td>\n    </tr>\n    <tr>\n      <th>1089</th>\n      <td>2018-06-30 00:00:00+00:00</td>\n      <td>-162.01</td>\n    </tr>\n    <tr>\n      <th>1090</th>\n      <td>2018-06-30 12:00:00+00:00</td>\n      <td>-137.79</td>\n    </tr>\n    <tr>\n      <th>1091</th>\n      <td>2018-07-01 00:00:00+00:00</td>\n      <td>-164.99</td>\n    </tr>\n    <tr>\n      <th>1092</th>\n      <td>2018-07-01 12:00:00+00:00</td>\n      <td>-143.99</td>\n    </tr>\n    <tr>\n      <th>1093</th>\n      <td>2018-07-02 00:00:00+00:00</td>\n      <td>-168.38</td>\n    </tr>\n  </tbody>\n</table>\n</div>"
          },
          "execution_count": 129,
          "metadata": {}
        }
      ],
      "metadata": {
        "id": "92f628d0-dd90-4989-99d5-a7bbe273028e",
        "outputId": "5ba9d550-ea44-4bbb-baa1-6c30d9dfa69d"
      },
      "source": [
        "weight.loc[weight['weight'] < 0] # investigate negative weights"
      ]
    },
    {
      "cell_type": "code",
      "execution_count": 64,
      "outputs": [
        {
          "output_type": "display_data",
          "data": {
            "application/vnd.livy.statement-meta+json": {
              "spark_pool": "CLSYNB",
              "statement_id": 65,
              "statement_ids": [
                65
              ],
              "state": "finished",
              "livy_statement_state": "available",
              "spark_jobs": null,
              "session_id": "31",
              "normalized_state": "finished",
              "queued_time": "2025-08-20T06:52:48.1522898Z",
              "session_start_time": null,
              "execution_start_time": "2025-08-20T06:53:19.0010358Z",
              "execution_finish_time": "2025-08-20T06:53:19.6928255Z",
              "parent_msg_id": "9b96d468-f684-4b7c-8656-4cbd8b071e20"
            },
            "text/plain": "StatementMeta(CLSYNB, 31, 65, Finished, Available, Finished)"
          },
          "metadata": {}
        },
        {
          "output_type": "execute_result",
          "data": {
            "text/plain": "<matplotlib.lines.Line2D at 0x7a09051b1de0>"
          },
          "execution_count": 131,
          "metadata": {}
        },
        {
          "output_type": "display_data",
          "data": {
            "text/plain": "<Figure size 1200x600 with 1 Axes>",
            "image/png": "[encoded data removed]"
          },
          "metadata": {}
        }
      ],
      "metadata": {
        "id": "1e6cf64f-13b5-4eaa-9acc-2c89be29bf58",
        "outputId": "27e308d0-ec68-46d9-f0f6-2ea03a493c2e"
      },
      "source": [
        "# plot them to look for pattern\n",
        "from matplotlib import pyplot as plt\n",
        "\n",
        "weight.plot(kind='line', x='timestamp', y='weight', figsize=(12, 6))\n",
        "plt.axhline(0)\n",
        "\n",
        "# they're really not even visible"
      ]
    },
    {
      "cell_type": "code",
      "execution_count": 65,
      "outputs": [
        {
          "output_type": "display_data",
          "data": {
            "application/vnd.livy.statement-meta+json": {
              "spark_pool": "CLSYNB",
              "statement_id": 66,
              "statement_ids": [
                66
              ],
              "state": "finished",
              "livy_statement_state": "available",
              "spark_jobs": null,
              "session_id": "31",
              "normalized_state": "finished",
              "queued_time": "2025-08-20T06:52:48.5277631Z",
              "session_start_time": null,
              "execution_start_time": "2025-08-20T06:53:19.7059559Z",
              "execution_finish_time": "2025-08-20T06:53:20.3447427Z",
              "parent_msg_id": "94d25861-ac23-4fe3-b6f9-e6dab3abe1c7"
            },
            "text/plain": "StatementMeta(CLSYNB, 31, 66, Finished, Available, Finished)"
          },
          "metadata": {}
        },
        {
          "output_type": "execute_result",
          "data": {
            "text/plain": "<matplotlib.lines.Line2D at 0x7a0907cf8610>"
          },
          "execution_count": 133,
          "metadata": {}
        },
        {
          "output_type": "display_data",
          "data": {
            "text/plain": "<Figure size 1200x600 with 1 Axes>",
            "image/png": "[encoded data removed]"
          },
          "metadata": {}
        }
      ],
      "metadata": {
        "id": "11c1f269-40f3-4d40-805f-53f17c33059f",
        "outputId": "138d8ff4-9732-43c1-8952-37267cbb877f"
      },
      "source": [
        "# test out making negatives positive\n",
        "weight2 = weight.copy()\n",
        "weight2['weight'] = weight2['weight'].abs()\n",
        "weight2.plot(kind='line', x='timestamp', y='weight', figsize=(12, 6))\n",
        "plt.axhline(0) # looks reasonable"
      ]
    },
    {
      "cell_type": "code",
      "execution_count": 66,
      "outputs": [
        {
          "output_type": "display_data",
          "data": {
            "application/vnd.livy.statement-meta+json": {
              "spark_pool": "CLSYNB",
              "statement_id": 67,
              "statement_ids": [
                67
              ],
              "state": "finished",
              "livy_statement_state": "available",
              "spark_jobs": null,
              "session_id": "31",
              "normalized_state": "finished",
              "queued_time": "2025-08-20T06:52:49.005013Z",
              "session_start_time": null,
              "execution_start_time": "2025-08-20T06:53:20.3588705Z",
              "execution_finish_time": "2025-08-20T06:53:20.6157708Z",
              "parent_msg_id": "219f0f0b-2ce2-4c89-b7fc-38adaea4200f"
            },
            "text/plain": "StatementMeta(CLSYNB, 31, 67, Finished, Available, Finished)"
          },
          "metadata": {}
        }
      ],
      "metadata": {
        "id": "9bc3817e-1e60-4e97-9862-7a7b063e8d85"
      },
      "source": [
        "weight['weight'] = weight['weight'].abs()"
      ]
    },
    {
      "cell_type": "markdown",
      "metadata": {},
      "source": [
        "## Reassembly and regularity"
      ]
    },
    {
      "cell_type": "markdown",
      "metadata": {},
      "source": [
        "### Flow"
      ]
    },
    {
      "cell_type": "code",
      "execution_count": 67,
      "outputs": [
        {
          "output_type": "display_data",
          "data": {
            "application/vnd.livy.statement-meta+json": {
              "spark_pool": "CLSYNB",
              "statement_id": 68,
              "statement_ids": [
                68
              ],
              "state": "finished",
              "livy_statement_state": "available",
              "spark_jobs": null,
              "session_id": "31",
              "normalized_state": "finished",
              "queued_time": "2025-08-20T06:52:49.2021476Z",
              "session_start_time": null,
              "execution_start_time": "2025-08-20T06:53:20.6296307Z",
              "execution_finish_time": "2025-08-20T06:53:21.2463505Z",
              "parent_msg_id": "f1aa6f20-843b-4c2a-abd4-593bda32fd95"
            },
            "text/plain": "StatementMeta(CLSYNB, 31, 68, Finished, Available, Finished)"
          },
          "metadata": {}
        }
      ],
      "metadata": {
        "id": "122b8f8b-5914-4a67-a935-05ae5e8a2c61"
      },
      "source": [
        "# merge flow figures back into one dataframe\n",
        "flow = departures.merge(arrivals, on='timestamp', how='outer', suffixes=['_out', '_in'])\n",
        "flow = flow.sort_values(by='timestamp')"
      ]
    },
    {
      "cell_type": "code",
      "execution_count": 68,
      "outputs": [
        {
          "output_type": "display_data",
          "data": {
            "application/vnd.livy.statement-meta+json": {
              "spark_pool": "CLSYNB",
              "statement_id": 69,
              "statement_ids": [
                69
              ],
              "state": "finished",
              "livy_statement_state": "available",
              "spark_jobs": null,
              "session_id": "31",
              "normalized_state": "finished",
              "queued_time": "2025-08-20T06:52:49.6373589Z",
              "session_start_time": null,
              "execution_start_time": "2025-08-20T06:53:21.2646842Z",
              "execution_finish_time": "2025-08-20T06:53:21.557Z",
              "parent_msg_id": "7e79e4bc-e4ef-48b0-a663-379bbae29248"
            },
            "text/plain": "StatementMeta(CLSYNB, 31, 69, Finished, Available, Finished)"
          },
          "metadata": {}
        },
        {
          "output_type": "execute_result",
          "data": {
            "text/plain": "0 days 00:01:00    1256857\n0 days 00:02:00         56\n5 days 09:32:00          1\n0 days 11:56:00          1\n0 days 02:44:00          1\n1 days 01:19:00          1\nName: timestamp, dtype: int64"
          },
          "execution_count": 139,
          "metadata": {}
        }
      ],
      "metadata": {
        "id": "6d1c11c9-3045-4fb5-b901-4104685b02ff",
        "outputId": "57e0a1ac-61fd-4f30-dd5b-c67af5e46bee"
      },
      "source": [
        "# timestamps still aren't perfectly regular\n",
        "(flow['timestamp'] - flow['timestamp'].shift(1)).value_counts()"
      ]
    },
    {
      "cell_type": "code",
      "execution_count": 69,
      "outputs": [
        {
          "output_type": "display_data",
          "data": {
            "application/vnd.livy.statement-meta+json": {
              "spark_pool": "CLSYNB",
              "statement_id": 70,
              "statement_ids": [
                70
              ],
              "state": "finished",
              "livy_statement_state": "available",
              "spark_jobs": null,
              "session_id": "31",
              "normalized_state": "finished",
              "queued_time": "2025-08-20T06:52:49.9017988Z",
              "session_start_time": null,
              "execution_start_time": "2025-08-20T06:53:21.5705274Z",
              "execution_finish_time": "2025-08-20T06:53:21.9006585Z",
              "parent_msg_id": "6e1a1116-320f-466c-9e96-bba756adbd9c"
            },
            "text/plain": "StatementMeta(CLSYNB, 31, 70, Finished, Available, Finished)"
          },
          "metadata": {}
        }
      ],
      "metadata": {},
      "source": [
        "# create a regular, one-minute interval\n",
        "if not flow.empty:\n",
        "    flow = flow.set_index(\"timestamp\").resample(\"min\").asfreq()#.reset_index()"
      ]
    },
    {
      "cell_type": "markdown",
      "metadata": {},
      "source": [
        "### Humidity"
      ]
    },
    {
      "cell_type": "code",
      "execution_count": 70,
      "outputs": [
        {
          "output_type": "display_data",
          "data": {
            "application/vnd.livy.statement-meta+json": {
              "spark_pool": "CLSYNB",
              "statement_id": 71,
              "statement_ids": [
                71
              ],
              "state": "finished",
              "livy_statement_state": "available",
              "spark_jobs": null,
              "session_id": "31",
              "normalized_state": "finished",
              "queued_time": "2025-08-20T06:52:50.0383599Z",
              "session_start_time": null,
              "execution_start_time": "2025-08-20T06:53:21.9140564Z",
              "execution_finish_time": "2025-08-20T06:53:22.2289871Z",
              "parent_msg_id": "5e36151c-6a86-428e-8184-e900a3ad2413"
            },
            "text/plain": "StatementMeta(CLSYNB, 31, 71, Finished, Available, Finished)"
          },
          "metadata": {}
        },
        {
          "output_type": "execute_result",
          "data": {
            "text/plain": "0 days 12:00:00    1760\nName: timestamp, dtype: int64"
          },
          "execution_count": 143,
          "metadata": {}
        }
      ],
      "metadata": {
        "id": "6d1c11c9-3045-4fb5-b901-4104685b02ff",
        "outputId": "57e0a1ac-61fd-4f30-dd5b-c67af5e46bee"
      },
      "source": [
        "# timestamps are regular at 12 hours\n",
        "(humidity['timestamp'] - humidity['timestamp'].shift(1)).value_counts()"
      ]
    },
    {
      "cell_type": "markdown",
      "metadata": {},
      "source": [
        "### Temperature"
      ]
    },
    {
      "cell_type": "code",
      "execution_count": 71,
      "outputs": [
        {
          "output_type": "display_data",
          "data": {
            "application/vnd.livy.statement-meta+json": {
              "spark_pool": "CLSYNB",
              "statement_id": 72,
              "statement_ids": [
                72
              ],
              "state": "finished",
              "livy_statement_state": "available",
              "spark_jobs": null,
              "session_id": "31",
              "normalized_state": "finished",
              "queued_time": "2025-08-20T06:52:50.1570398Z",
              "session_start_time": null,
              "execution_start_time": "2025-08-20T06:53:22.2430163Z",
              "execution_finish_time": "2025-08-20T06:53:22.5293383Z",
              "parent_msg_id": "3bb6de34-bc20-4b73-8438-216e4f72ec22"
            },
            "text/plain": "StatementMeta(CLSYNB, 31, 72, Finished, Available, Finished)"
          },
          "metadata": {}
        },
        {
          "output_type": "execute_result",
          "data": {
            "text/plain": "0 days 00:05:00    253429\nName: timestamp, dtype: int64"
          },
          "execution_count": 145,
          "metadata": {}
        }
      ],
      "metadata": {},
      "source": [
        "# timestamps are regular at five minutes\n",
        "(temperature['timestamp'] - temperature['timestamp'].shift(1)).value_counts()"
      ]
    },
    {
      "cell_type": "markdown",
      "metadata": {},
      "source": [
        "### Weight"
      ]
    },
    {
      "cell_type": "code",
      "execution_count": 72,
      "outputs": [
        {
          "output_type": "display_data",
          "data": {
            "application/vnd.livy.statement-meta+json": {
              "spark_pool": "CLSYNB",
              "statement_id": 73,
              "statement_ids": [
                73
              ],
              "state": "finished",
              "livy_statement_state": "available",
              "spark_jobs": null,
              "session_id": "31",
              "normalized_state": "finished",
              "queued_time": "2025-08-20T06:52:50.2836228Z",
              "session_start_time": null,
              "execution_start_time": "2025-08-20T06:53:22.5443307Z",
              "execution_finish_time": "2025-08-20T06:53:22.7895515Z",
              "parent_msg_id": "1db8b351-12c1-4b95-9f7c-41c06085d7ee"
            },
            "text/plain": "StatementMeta(CLSYNB, 31, 73, Finished, Available, Finished)"
          },
          "metadata": {}
        },
        {
          "output_type": "execute_result",
          "data": {
            "text/plain": "0 days 12:00:00    1760\nName: timestamp, dtype: int64"
          },
          "execution_count": 147,
          "metadata": {}
        }
      ],
      "metadata": {},
      "source": [
        "# timestamps are regular at 12 hours\n",
        "(weight['timestamp'] - weight['timestamp'].shift(1)).value_counts()"
      ]
    },
    {
      "cell_type": "markdown",
      "metadata": {},
      "source": [
        "# Hive data cleaning"
      ]
    },
    {
      "cell_type": "markdown",
      "metadata": {},
      "source": [
        "## Define cleaning functions"
      ]
    },
    {
      "cell_type": "code",
      "execution_count": 73,
      "outputs": [
        {
          "output_type": "display_data",
          "data": {
            "application/vnd.livy.statement-meta+json": {
              "spark_pool": "CLSYNB",
              "statement_id": 74,
              "statement_ids": [
                74
              ],
              "state": "finished",
              "livy_statement_state": "available",
              "spark_jobs": null,
              "session_id": "31",
              "normalized_state": "finished",
              "queued_time": "2025-08-20T06:52:50.4477262Z",
              "session_start_time": null,
              "execution_start_time": "2025-08-20T06:53:22.8036082Z",
              "execution_finish_time": "2025-08-20T06:53:23.0947528Z",
              "parent_msg_id": "0dbc5375-1abb-4d1f-8dac-8ca83890ef2f"
            },
            "text/plain": "StatementMeta(CLSYNB, 31, 74, Finished, Available, Finished)"
          },
          "metadata": {}
        }
      ],
      "metadata": {},
      "source": [
        "def clean_splits(df):\n",
        "    # convert to UTC\n",
        "    df['timestamp'] = df['timestamp'].dt.tz_localize('Europe/Berlin', ambiguous='infer').dt.tz_convert(\"UTC\")\n",
        "    \n",
        "    # drop duplicates just in case\n",
        "    df = df.drop_duplicates().copy() \n",
        "\n",
        "    # remove outliers\n",
        "    df = remove_flow_outliers(df)\n",
        "\n",
        "    return df\n",
        "\n",
        "def clean_flow(flow):\n",
        "    # divide flow into the two types of counts, in and out\n",
        "    departures = flow.loc[:flow.shape[0]/2-1].copy()\n",
        "    arrivals = flow.loc[flow.shape[0]/2:].copy()\n",
        "\n",
        "    # clean up individual flow directions\n",
        "    departures = clean_splits(departures)\n",
        "    arrivals = clean_splits(arrivals)\n",
        "\n",
        "    # recombine split files\n",
        "    flow = departures.merge(arrivals, on='timestamp', how='outer', suffixes=['_out', '_in'])\n",
        "    flow = flow.sort_values(by='timestamp')\n",
        "\n",
        "    # create a regular, one-minute interval\n",
        "    flow = flow.set_index(\"timestamp\").resample(\"min\").asfreq().reset_index()\n",
        "\n",
        "    return flow"
      ]
    },
    {
      "cell_type": "code",
      "execution_count": 74,
      "outputs": [
        {
          "output_type": "display_data",
          "data": {
            "application/vnd.livy.statement-meta+json": {
              "spark_pool": "CLSYNB",
              "statement_id": 75,
              "statement_ids": [
                75
              ],
              "state": "finished",
              "livy_statement_state": "available",
              "spark_jobs": null,
              "session_id": "31",
              "normalized_state": "finished",
              "queued_time": "2025-08-20T06:52:50.537099Z",
              "session_start_time": null,
              "execution_start_time": "2025-08-20T06:53:23.1082027Z",
              "execution_finish_time": "2025-08-20T06:53:23.3701342Z",
              "parent_msg_id": "dc2ae381-6586-4310-8d17-29323e8c70c3"
            },
            "text/plain": "StatementMeta(CLSYNB, 31, 75, Finished, Available, Finished)"
          },
          "metadata": {}
        }
      ],
      "metadata": {},
      "source": [
        "def clean_humidity(humidity):\n",
        "    # humidity values cannot be negative\n",
        "    humidity['humidity'] = humidity['humidity'].abs()\n",
        "\n",
        "    # convert to UTC\n",
        "    # any ambiguous times ARE in daylight saving (summer time)\n",
        "    humidity['timestamp'] = humidity['timestamp'].dt.tz_localize(\"Europe/Berlin\", ambiguous=pd.Series(True, index=humidity.index)).dt.tz_convert(\"UTC\")\n",
        "\n",
        "    # drop duplicates just in case\n",
        "    humidity = humidity.drop_duplicates().copy() \n",
        "\n",
        "    # create a regular, 12-hour interval\n",
        "    humidity = humidity.set_index(\"timestamp\").resample(\"12h\").asfreq().reset_index()\n",
        "\n",
        "    return humidity"
      ]
    },
    {
      "cell_type": "code",
      "execution_count": 75,
      "outputs": [
        {
          "output_type": "display_data",
          "data": {
            "application/vnd.livy.statement-meta+json": {
              "spark_pool": "CLSYNB",
              "statement_id": 76,
              "statement_ids": [
                76
              ],
              "state": "finished",
              "livy_statement_state": "available",
              "spark_jobs": null,
              "session_id": "31",
              "normalized_state": "finished",
              "queued_time": "2025-08-20T06:52:50.6511018Z",
              "session_start_time": null,
              "execution_start_time": "2025-08-20T06:53:23.3849355Z",
              "execution_finish_time": "2025-08-20T06:53:23.636116Z",
              "parent_msg_id": "98da7ff6-bd66-4c5b-b4f7-fd25405cc040"
            },
            "text/plain": "StatementMeta(CLSYNB, 31, 76, Finished, Available, Finished)"
          },
          "metadata": {}
        }
      ],
      "metadata": {},
      "source": [
        "def clean_temperature(temperature):\n",
        "    # convert to UTC\n",
        "    temperature['timestamp'] = temperature['timestamp'].dt.tz_localize(\"Europe/Berlin\", ambiguous=\"infer\").dt.tz_convert(\"UTC\")\n",
        "\n",
        "    # drop duplicates just in case\n",
        "    temperature = temperature.drop_duplicates().copy() \n",
        "\n",
        "    # create a regular, five-minute interval\n",
        "    temperature = temperature.set_index(\"timestamp\").resample(\"5min\").asfreq().reset_index()\n",
        "\n",
        "    return temperature"
      ]
    },
    {
      "cell_type": "code",
      "execution_count": 76,
      "outputs": [
        {
          "output_type": "display_data",
          "data": {
            "application/vnd.livy.statement-meta+json": {
              "spark_pool": "CLSYNB",
              "statement_id": 77,
              "statement_ids": [
                77
              ],
              "state": "finished",
              "livy_statement_state": "available",
              "spark_jobs": null,
              "session_id": "31",
              "normalized_state": "finished",
              "queued_time": "2025-08-20T06:52:50.7707449Z",
              "session_start_time": null,
              "execution_start_time": "2025-08-20T06:53:23.6504688Z",
              "execution_finish_time": "2025-08-20T06:53:23.899606Z",
              "parent_msg_id": "132ae68f-5cbb-4206-8b65-be8d41c0e611"
            },
            "text/plain": "StatementMeta(CLSYNB, 31, 77, Finished, Available, Finished)"
          },
          "metadata": {}
        }
      ],
      "metadata": {},
      "source": [
        "def clean_weight(weight):\n",
        "    # weight values cannot be negative\n",
        "    weight['weight'] = weight['weight'].abs()\n",
        "\n",
        "    # convert to UTC\n",
        "    # any ambiguous times ARE in daylight saving (summer time)\n",
        "    weight['timestamp'] = weight['timestamp'].dt.tz_localize(\"Europe/Berlin\", ambiguous=pd.Series(True, index=weight.index)).dt.tz_convert(\"UTC\")\n",
        "\n",
        "    # drop duplicates just in case\n",
        "    weight = weight.drop_duplicates().copy() \n",
        "\n",
        "    # create a regular, 12-hour interval\n",
        "    weight = weight.set_index(\"timestamp\").resample(\"12h\").asfreq().reset_index()\n",
        "\n",
        "    return weight"
      ]
    },
    {
      "cell_type": "markdown",
      "metadata": {},
      "source": [
        "## Clean and write all files"
      ]
    },
    {
      "cell_type": "code",
      "execution_count": 77,
      "outputs": [
        {
          "output_type": "display_data",
          "data": {
            "application/vnd.livy.statement-meta+json": {
              "spark_pool": "CLSYNB",
              "statement_id": 78,
              "statement_ids": [
                78
              ],
              "state": "finished",
              "livy_statement_state": "available",
              "spark_jobs": null,
              "session_id": "31",
              "normalized_state": "finished",
              "queued_time": "2025-08-20T06:52:50.8932241Z",
              "session_start_time": null,
              "execution_start_time": "2025-08-20T06:53:23.9134788Z",
              "execution_finish_time": "2025-08-20T06:53:34.7146563Z",
              "parent_msg_id": "222fbb9a-e16d-4354-8af1-428d79c644e7"
            },
            "text/plain": "StatementMeta(CLSYNB, 31, 78, Finished, Available, Finished)"
          },
          "metadata": {}
        },
        {
          "output_type": "stream",
          "name": "stdout",
          "text": [
            "flow_schwartau.csv\nhumidity_schwartau.csv\ntemperature_schwartau.csv\nweight_schwartau.csv\n"
          ]
        }
      ],
      "metadata": {},
      "source": [
        "import fsspec\n",
        "\n",
        "# folder for cleaned hive files\n",
        "hive_sink = root_dir+'silver/'\n",
        "\n",
        "# store all DataFrames for weather-data gathering\n",
        "all_dfs = {\n",
        "    \"schwartau\": [],\n",
        "    \"wurzburg\": []\n",
        "}\n",
        "\n",
        "# list files in source\n",
        "fs = fsspec.filesystem(\"abfs\")\n",
        "file_list_longform = fs.ls(source)\n",
        "file_list = [file.rsplit(\"/\", maxsplit=1)[1] for file in file_list_longform]\n",
        "\n",
        "for file in file_list:\n",
        "    print(file)\n",
        "    # skip \"hidden\" files\n",
        "    if file.startswith(\".\"):\n",
        "        continue\n",
        "    \n",
        "    # what measurement do we expect in the file?\n",
        "    measurement = file.split(\"_\")[0]\n",
        "    # where was the measurement taken?\n",
        "    location = file.split(\"_\")[1].split(\".\")[0]\n",
        "\n",
        "    # read file\n",
        "    df = pd.read_csv(source+file, parse_dates=['timestamp'])\n",
        "    \n",
        "    # clean file according to identity in file name\n",
        "    match measurement:\n",
        "        case \"flow\":\n",
        "            df = clean_flow(df)\n",
        "        case \"humidity\":\n",
        "            df = clean_humidity(df)\n",
        "        case \"temperature\":\n",
        "            df = clean_temperature(df)\n",
        "        case \"weight\":\n",
        "            df = clean_weight(df)\n",
        "        case _:\n",
        "            print(f\"File {file} does not contain recognized measurement\")\n",
        "            continue\n",
        "\n",
        "    # store DataFrame in dictionary\n",
        "    # ignore DataFrame from unknown location\n",
        "    if location not in (\"schwartau\", \"wurzburg\"):\n",
        "        print(f\"File {file} not from recognized location\")\n",
        "        continue\n",
        "    all_dfs[location].append(df)\n",
        "    \n",
        "    # write DataFrame to file\n",
        "    write_name = f\"{hive_sink}{measurement}/{location}__{pd.Timestamp.now().strftime('%Y-%m-%dT%Hh%Mm%Ss')}.parquet\"\n",
        "    df.to_parquet(write_name, index=False)"
      ]
    },
    {
      "cell_type": "markdown",
      "metadata": {},
      "source": [
        "# Weather"
      ]
    },
    {
      "cell_type": "markdown",
      "metadata": {},
      "source": [
        "## Define weather function"
      ]
    },
    {
      "cell_type": "code",
      "execution_count": 78,
      "outputs": [
        {
          "output_type": "display_data",
          "data": {
            "application/vnd.livy.statement-meta+json": {
              "spark_pool": "CLSYNB",
              "statement_id": 79,
              "statement_ids": [
                79
              ],
              "state": "finished",
              "livy_statement_state": "available",
              "spark_jobs": null,
              "session_id": "31",
              "normalized_state": "finished",
              "queued_time": "2025-08-20T06:52:51.0225616Z",
              "session_start_time": null,
              "execution_start_time": "2025-08-20T06:53:34.7289666Z",
              "execution_finish_time": "2025-08-20T06:53:35.0012585Z",
              "parent_msg_id": "0ec8b472-9016-4fe3-b683-133b9c37b087"
            },
            "text/plain": "StatementMeta(CLSYNB, 31, 79, Finished, Available, Finished)"
          },
          "metadata": {}
        }
      ],
      "metadata": {},
      "source": [
        "import requests\n",
        "import json\n",
        "\n",
        "def get_weather(location, start_date, end_date):\n",
        "    # json responses will be written to file\n",
        "    raw_sink = root_dir+\"bronze/archive/weather/\"\n",
        "\n",
        "    coords = {\n",
        "        \"schwartau\": {\"lat\": 53.919444, \"lon\": 10.6975},\n",
        "        \"wurzburg\": {\"lat\": 49.783333, \"lon\": 9.933333}\n",
        "    }\n",
        "    # these are not values measured at weather station\n",
        "    measures_to_ignore = [\"timestamp\", \"source_id\", \"condition\", \"precipitation_probability\", \n",
        "                          \"precipitation_probability_6h\", \"icon\", \"fallback_source_ids\"]\n",
        "    \n",
        "    url = \"https://api.brightsky.dev/weather\"\n",
        "    headers = {\"Accept\": \"application/json\"}\n",
        "    params = coords[location] | {\"date\": start_date, \"last_date\": end_date}\n",
        "    \n",
        "    response = requests.get(url, headers=headers, params=params)\n",
        "    \n",
        "    if response.status_code == 200:\n",
        "        weather = response.json()\n",
        "        with fsspec.open(raw_sink+f\"{location}__{start_date.strftime('%Y-%m-%d')}-{end_date.strftime('%Y-%m-%d')}.json\", \"w\") as f:\n",
        "            json.dump(weather, f, indent=4)\n",
        "\n",
        "        # convert weather[\"sources\"] to DataFrame for easy searchability\n",
        "        sources_df = pd.DataFrame(weather[\"sources\"])\n",
        "        \n",
        "        # different measure may come from different sources at each timestamp\n",
        "        # for each time stamp, check if the measure has an alternate source\n",
        "        for time in weather[\"weather\"]:\n",
        "            temp_dict = {}\n",
        "            for measure in time.keys():\n",
        "                if measure in measures_to_ignore:\n",
        "                    continue\n",
        "                # record the distance from the measurement source to the hives as a proxy for reliability of that info\n",
        "                if measure in time.get(\"fallback_source_ids\", {}):\n",
        "                    temp_dict[f\"{measure}_source_distance\"] = sources_df.loc[sources_df[\"id\"] == time.get(\"fallback_source_ids\", {}).get(measure), \"distance\"].values[0]\n",
        "                else:\n",
        "                    temp_dict[f\"{measure}_source_distance\"] = sources_df.loc[sources_df[\"id\"] == time[\"source_id\"], \"distance\"].values[0]\n",
        "            # add distances to object at that timestamp\n",
        "            time.update(temp_dict)\n",
        "\n",
        "        columns_to_drop = [\"source_id\", \"fallback_source_ids\", # internal to Bright Sky\n",
        "                           \"visibility\", # bees don't see very far anyway\n",
        "                           \"condition\", \"icon\", # text suitable for weather apps, not analysis\n",
        "                           \"precipitation_probability\", \"precipitation_probability_6h\", # only available for forecasts, not historical data\n",
        "                           ]\n",
        "        weather_df = (\n",
        "            pd.DataFrame(weather[\"weather\"])\n",
        "            .drop(columns_to_drop, axis=1)\n",
        "        )\n",
        "        weather_df[\"timestamp\"] = pd.to_datetime(weather_df[\"timestamp\"])\n",
        "\n",
        "        return weather_df\n",
        "    else:\n",
        "        return f\"Failure to gather weather data for period {start_date} to {end_date} in {location}.\\nReason: {response.text}\""
      ]
    },
    {
      "cell_type": "markdown",
      "metadata": {},
      "source": [
        "## Get weather info and write files"
      ]
    },
    {
      "cell_type": "code",
      "execution_count": 79,
      "outputs": [
        {
          "output_type": "display_data",
          "data": {
            "application/vnd.livy.statement-meta+json": {
              "spark_pool": "CLSYNB",
              "statement_id": 80,
              "statement_ids": [
                80
              ],
              "state": "finished",
              "livy_statement_state": "available",
              "spark_jobs": null,
              "session_id": "31",
              "normalized_state": "finished",
              "queued_time": "2025-08-20T06:52:51.1347772Z",
              "session_start_time": null,
              "execution_start_time": "2025-08-20T06:53:35.0153662Z",
              "execution_finish_time": "2025-08-20T06:54:21.3764712Z",
              "parent_msg_id": "5b7ce8a8-9ce8-40d5-90d4-88011dceef2a"
            },
            "text/plain": "StatementMeta(CLSYNB, 31, 80, Finished, Available, Finished)"
          },
          "metadata": {}
        }
      ],
      "metadata": {},
      "source": [
        "# folder for cleaned weather files\n",
        "weather_sink = root_dir+\"silver/weather/\"\n",
        "\n",
        "for location in all_dfs:\n",
        "    # skip locations with no DataFrames\n",
        "    if len(all_dfs[location]) == 0:\n",
        "        continue\n",
        "    # gather all timestamps for location to find time range\n",
        "    all_times = pd.concat([df[\"timestamp\"] for df in all_dfs[location]])\n",
        "    start_date = all_times.min()\n",
        "    end_date = all_times.max()\n",
        "\n",
        "    weather_out = get_weather(location, start_date, end_date)\n",
        "    if isinstance(weather_out, pd.DataFrame):\n",
        "        write_name = weather_sink+f\"schwartau__{start_date.strftime('%Y-%m-%d')}-{end_date.strftime('%Y-%m-%d')}.parquet\"\n",
        "        weather_out.to_parquet(write_name, index=False)\n",
        "    else:\n",
        "        print(weather_out)"
      ]
    },
    {
      "cell_type": "markdown",
      "metadata": {
        "nteract": {
          "transient": {
            "deleting": false
          }
        }
      },
      "source": [
        "# Release Spark pool"
      ]
    },
    {
      "cell_type": "code",
      "execution_count": 80,
      "outputs": [
        {
          "output_type": "display_data",
          "data": {
            "application/vnd.livy.statement-meta+json": {
              "spark_pool": "CLSYNB",
              "statement_id": 81,
              "statement_ids": [
                81
              ],
              "state": "finished",
              "livy_statement_state": "available",
              "spark_jobs": null,
              "session_id": "31",
              "normalized_state": "finished",
              "queued_time": "2025-08-20T06:52:51.2428522Z",
              "session_start_time": null,
              "execution_start_time": "2025-08-20T06:54:21.3923214Z",
              "execution_finish_time": "2025-08-20T06:54:22.0458357Z",
              "parent_msg_id": "7dcc12c5-4fa8-4c93-a58b-62b0e8fba2ae"
            },
            "text/plain": "StatementMeta(CLSYNB, 31, 81, Finished, Available, Finished)"
          },
          "metadata": {}
        }
      ],
      "metadata": {},
      "source": [
        "mssparkutils.session.stop()"
      ]
    }
  ]
}