{
  "nbformat": 4,
  "nbformat_minor": 2,
  "metadata": {
    "language_info": {
      "name": "python"
    },
    "kernelspec": {
      "name": "synapse_pyspark",
      "display_name": "python"
    },
    "description": null,
    "save_output": true,
    "synapse_widget": {
      "version": "0.1",
      "state": {}
    }
  },
  "cells": [
    {
      "cell_type": "code",
      "execution_count": 7,
      "outputs": [
        {
          "output_type": "display_data",
          "data": {
            "application/vnd.livy.statement-meta+json": {
              "spark_pool": "CLSYNB",
              "statement_id": 6,
              "statement_ids": [
                6
              ],
              "state": "finished",
              "livy_statement_state": "available",
              "spark_jobs": null,
              "session_id": "34",
              "normalized_state": "finished",
              "queued_time": "2025-08-20T10:17:19.0296991Z",
              "session_start_time": null,
              "execution_start_time": "2025-08-20T10:17:19.0316059Z",
              "execution_finish_time": "2025-08-20T10:17:22.0297717Z",
              "parent_msg_id": "fba256c7-6308-4d88-8dcf-c2c7208d4aa4"
            },
            "text/plain": "StatementMeta(CLSYNB, 34, 6, Finished, Available, Finished)"
          },
          "metadata": {}
        },
        {
          "output_type": "stream",
          "name": "stdout",
          "text": [
            "processing schwartau__2017-01-01-2019-05-31.parquet\nprocessing schwartau__2025-08-20T06h53m32s.parquet\nprocessing schwartau__2025-08-20T06h53m33s.parquet\nprocessing schwartau__2025-08-20T06h53m34s.parquet\n"
          ]
        },
        {
          "output_type": "execute_result",
          "data": {
            "text/plain": "                        timestamp   location  flow_out  flow_in  \\\n0       2017-01-01 12:00:00+00:00  schwartau       NaN      NaN   \n1       2017-01-01 13:00:00+00:00  schwartau       NaN      NaN   \n2       2017-01-01 13:15:00+00:00  schwartau       0.0      0.0   \n3       2017-01-01 13:16:00+00:00  schwartau       0.0      0.0   \n4       2017-01-01 13:17:00+00:00  schwartau       0.0      0.0   \n...                           ...        ...       ...      ...   \n1267138 2019-05-31 12:11:00+00:00  schwartau    -241.0    128.0   \n1267139 2019-05-31 12:12:00+00:00  schwartau    -226.0    140.0   \n1267140 2019-05-31 12:13:00+00:00  schwartau    -208.0    144.0   \n1267141 2019-05-31 12:14:00+00:00  schwartau    -217.0    146.0   \n1267142 2019-05-31 12:15:00+00:00  schwartau    -222.0    164.0   \n\n         temperature_hive  humidity_hive    weight  precipitation  \\\n0                     NaN          98.04  50736.79            0.0   \n1                     NaN            NaN       NaN            0.0   \n2                     NaN            NaN       NaN            NaN   \n3                     NaN            NaN       NaN            NaN   \n4                     NaN            NaN       NaN            NaN   \n...                   ...            ...       ...            ...   \n1267138               NaN            NaN       NaN            NaN   \n1267139               NaN            NaN       NaN            NaN   \n1267140               NaN            NaN       NaN            NaN   \n1267141               NaN            NaN       NaN            NaN   \n1267142               NaN            NaN       NaN            NaN   \n\n         pressure_msl  sunshine  ...  temperature_source_distance  \\\n0              1013.8       0.0  ...                      13018.0   \n1              1012.0       0.0  ...                      22269.0   \n2                 NaN       NaN  ...                          NaN   \n3                 NaN       NaN  ...                          NaN   \n4                 NaN       NaN  ...                          NaN   \n...               ...       ...  ...                          ...   \n1267138           NaN       NaN  ...                          NaN   \n1267139           NaN       NaN  ...                          NaN   \n1267140           NaN       NaN  ...                          NaN   \n1267141           NaN       NaN  ...                          NaN   \n1267142           NaN       NaN  ...                          NaN   \n\n         wind_direction_source_distance  wind_speed_source_distance  \\\n0                               13018.0                     13018.0   \n1                               22269.0                     22269.0   \n2                                   NaN                         NaN   \n3                                   NaN                         NaN   \n4                                   NaN                         NaN   \n...                                 ...                         ...   \n1267138                             NaN                         NaN   \n1267139                             NaN                         NaN   \n1267140                             NaN                         NaN   \n1267141                             NaN                         NaN   \n1267142                             NaN                         NaN   \n\n         cloud_cover_source_distance  dew_point_source_distance  \\\n0                            13018.0                    13018.0   \n1                            22269.0                    22269.0   \n2                                NaN                        NaN   \n3                                NaN                        NaN   \n4                                NaN                        NaN   \n...                              ...                        ...   \n1267138                          NaN                        NaN   \n1267139                          NaN                        NaN   \n1267140                          NaN                        NaN   \n1267141                          NaN                        NaN   \n1267142                          NaN                        NaN   \n\n         relative_humidity_source_distance  visibility_source_distance  \\\n0                                  13018.0                     13018.0   \n1                                  22269.0                     22269.0   \n2                                      NaN                         NaN   \n3                                      NaN                         NaN   \n4                                      NaN                         NaN   \n...                                    ...                         ...   \n1267138                                NaN                         NaN   \n1267139                                NaN                         NaN   \n1267140                                NaN                         NaN   \n1267141                                NaN                         NaN   \n1267142                                NaN                         NaN   \n\n         wind_gust_direction_source_distance  wind_gust_speed_source_distance  \\\n0                                    13018.0                          13018.0   \n1                                    22269.0                          22269.0   \n2                                        NaN                              NaN   \n3                                        NaN                              NaN   \n4                                        NaN                              NaN   \n...                                      ...                              ...   \n1267138                                  NaN                              NaN   \n1267139                                  NaN                              NaN   \n1267140                                  NaN                              NaN   \n1267141                                  NaN                              NaN   \n1267142                                  NaN                              NaN   \n\n         solar_source_distance  \n0                      13018.0  \n1                       2122.0  \n2                          NaN  \n3                          NaN  \n4                          NaN  \n...                        ...  \n1267138                    NaN  \n1267139                    NaN  \n1267140                    NaN  \n1267141                    NaN  \n1267142                    NaN  \n\n[1267143 rows x 32 columns]",
            "text/html": "<div>\n<style scoped>\n    .dataframe tbody tr th:only-of-type {\n        vertical-align: middle;\n    }\n\n    .dataframe tbody tr th {\n        vertical-align: top;\n    }\n\n    .dataframe thead th {\n        text-align: right;\n    }\n</style>\n<table border=\"1\" class=\"dataframe\">\n  <thead>\n    <tr style=\"text-align: right;\">\n      <th></th>\n      <th>timestamp</th>\n      <th>location</th>\n      <th>flow_out</th>\n      <th>flow_in</th>\n      <th>temperature_hive</th>\n      <th>humidity_hive</th>\n      <th>weight</th>\n      <th>precipitation</th>\n      <th>pressure_msl</th>\n      <th>sunshine</th>\n      <th>...</th>\n      <th>temperature_source_distance</th>\n      <th>wind_direction_source_distance</th>\n      <th>wind_speed_source_distance</th>\n      <th>cloud_cover_source_distance</th>\n      <th>dew_point_source_distance</th>\n      <th>relative_humidity_source_distance</th>\n      <th>visibility_source_distance</th>\n      <th>wind_gust_direction_source_distance</th>\n      <th>wind_gust_speed_source_distance</th>\n      <th>solar_source_distance</th>\n    </tr>\n  </thead>\n  <tbody>\n    <tr>\n      <th>0</th>\n      <td>2017-01-01 12:00:00+00:00</td>\n      <td>schwartau</td>\n      <td>NaN</td>\n      <td>NaN</td>\n      <td>NaN</td>\n      <td>98.04</td>\n      <td>50736.79</td>\n      <td>0.0</td>\n      <td>1013.8</td>\n      <td>0.0</td>\n      <td>...</td>\n      <td>13018.0</td>\n      <td>13018.0</td>\n      <td>13018.0</td>\n      <td>13018.0</td>\n      <td>13018.0</td>\n      <td>13018.0</td>\n      <td>13018.0</td>\n      <td>13018.0</td>\n      <td>13018.0</td>\n      <td>13018.0</td>\n    </tr>\n    <tr>\n      <th>1</th>\n      <td>2017-01-01 13:00:00+00:00</td>\n      <td>schwartau</td>\n      <td>NaN</td>\n      <td>NaN</td>\n      <td>NaN</td>\n      <td>NaN</td>\n      <td>NaN</td>\n      <td>0.0</td>\n      <td>1012.0</td>\n      <td>0.0</td>\n      <td>...</td>\n      <td>22269.0</td>\n      <td>22269.0</td>\n      <td>22269.0</td>\n      <td>22269.0</td>\n      <td>22269.0</td>\n      <td>22269.0</td>\n      <td>22269.0</td>\n      <td>22269.0</td>\n      <td>22269.0</td>\n      <td>2122.0</td>\n    </tr>\n    <tr>\n      <th>2</th>\n      <td>2017-01-01 13:15:00+00:00</td>\n      <td>schwartau</td>\n      <td>0.0</td>\n      <td>0.0</td>\n      <td>NaN</td>\n      <td>NaN</td>\n      <td>NaN</td>\n      <td>NaN</td>\n      <td>NaN</td>\n      <td>NaN</td>\n      <td>...</td>\n      <td>NaN</td>\n      <td>NaN</td>\n      <td>NaN</td>\n      <td>NaN</td>\n      <td>NaN</td>\n      <td>NaN</td>\n      <td>NaN</td>\n      <td>NaN</td>\n      <td>NaN</td>\n      <td>NaN</td>\n    </tr>\n    <tr>\n      <th>3</th>\n      <td>2017-01-01 13:16:00+00:00</td>\n      <td>schwartau</td>\n      <td>0.0</td>\n      <td>0.0</td>\n      <td>NaN</td>\n      <td>NaN</td>\n      <td>NaN</td>\n      <td>NaN</td>\n      <td>NaN</td>\n      <td>NaN</td>\n      <td>...</td>\n      <td>NaN</td>\n      <td>NaN</td>\n      <td>NaN</td>\n      <td>NaN</td>\n      <td>NaN</td>\n      <td>NaN</td>\n      <td>NaN</td>\n      <td>NaN</td>\n      <td>NaN</td>\n      <td>NaN</td>\n    </tr>\n    <tr>\n      <th>4</th>\n      <td>2017-01-01 13:17:00+00:00</td>\n      <td>schwartau</td>\n      <td>0.0</td>\n      <td>0.0</td>\n      <td>NaN</td>\n      <td>NaN</td>\n      <td>NaN</td>\n      <td>NaN</td>\n      <td>NaN</td>\n      <td>NaN</td>\n      <td>...</td>\n      <td>NaN</td>\n      <td>NaN</td>\n      <td>NaN</td>\n      <td>NaN</td>\n      <td>NaN</td>\n      <td>NaN</td>\n      <td>NaN</td>\n      <td>NaN</td>\n      <td>NaN</td>\n      <td>NaN</td>\n    </tr>\n    <tr>\n      <th>...</th>\n      <td>...</td>\n      <td>...</td>\n      <td>...</td>\n      <td>...</td>\n      <td>...</td>\n      <td>...</td>\n      <td>...</td>\n      <td>...</td>\n      <td>...</td>\n      <td>...</td>\n      <td>...</td>\n      <td>...</td>\n      <td>...</td>\n      <td>...</td>\n      <td>...</td>\n      <td>...</td>\n      <td>...</td>\n      <td>...</td>\n      <td>...</td>\n      <td>...</td>\n      <td>...</td>\n    </tr>\n    <tr>\n      <th>1267138</th>\n      <td>2019-05-31 12:11:00+00:00</td>\n      <td>schwartau</td>\n      <td>-241.0</td>\n      <td>128.0</td>\n      <td>NaN</td>\n      <td>NaN</td>\n      <td>NaN</td>\n      <td>NaN</td>\n      <td>NaN</td>\n      <td>NaN</td>\n      <td>...</td>\n      <td>NaN</td>\n      <td>NaN</td>\n      <td>NaN</td>\n      <td>NaN</td>\n      <td>NaN</td>\n      <td>NaN</td>\n      <td>NaN</td>\n      <td>NaN</td>\n      <td>NaN</td>\n      <td>NaN</td>\n    </tr>\n    <tr>\n      <th>1267139</th>\n      <td>2019-05-31 12:12:00+00:00</td>\n      <td>schwartau</td>\n      <td>-226.0</td>\n      <td>140.0</td>\n      <td>NaN</td>\n      <td>NaN</td>\n      <td>NaN</td>\n      <td>NaN</td>\n      <td>NaN</td>\n      <td>NaN</td>\n      <td>...</td>\n      <td>NaN</td>\n      <td>NaN</td>\n      <td>NaN</td>\n      <td>NaN</td>\n      <td>NaN</td>\n      <td>NaN</td>\n      <td>NaN</td>\n      <td>NaN</td>\n      <td>NaN</td>\n      <td>NaN</td>\n    </tr>\n    <tr>\n      <th>1267140</th>\n      <td>2019-05-31 12:13:00+00:00</td>\n      <td>schwartau</td>\n      <td>-208.0</td>\n      <td>144.0</td>\n      <td>NaN</td>\n      <td>NaN</td>\n      <td>NaN</td>\n      <td>NaN</td>\n      <td>NaN</td>\n      <td>NaN</td>\n      <td>...</td>\n      <td>NaN</td>\n      <td>NaN</td>\n      <td>NaN</td>\n      <td>NaN</td>\n      <td>NaN</td>\n      <td>NaN</td>\n      <td>NaN</td>\n      <td>NaN</td>\n      <td>NaN</td>\n      <td>NaN</td>\n    </tr>\n    <tr>\n      <th>1267141</th>\n      <td>2019-05-31 12:14:00+00:00</td>\n      <td>schwartau</td>\n      <td>-217.0</td>\n      <td>146.0</td>\n      <td>NaN</td>\n      <td>NaN</td>\n      <td>NaN</td>\n      <td>NaN</td>\n      <td>NaN</td>\n      <td>NaN</td>\n      <td>...</td>\n      <td>NaN</td>\n      <td>NaN</td>\n      <td>NaN</td>\n      <td>NaN</td>\n      <td>NaN</td>\n      <td>NaN</td>\n      <td>NaN</td>\n      <td>NaN</td>\n      <td>NaN</td>\n      <td>NaN</td>\n    </tr>\n    <tr>\n      <th>1267142</th>\n      <td>2019-05-31 12:15:00+00:00</td>\n      <td>schwartau</td>\n      <td>-222.0</td>\n      <td>164.0</td>\n      <td>NaN</td>\n      <td>NaN</td>\n      <td>NaN</td>\n      <td>NaN</td>\n      <td>NaN</td>\n      <td>NaN</td>\n      <td>...</td>\n      <td>NaN</td>\n      <td>NaN</td>\n      <td>NaN</td>\n      <td>NaN</td>\n      <td>NaN</td>\n      <td>NaN</td>\n      <td>NaN</td>\n      <td>NaN</td>\n      <td>NaN</td>\n      <td>NaN</td>\n    </tr>\n  </tbody>\n</table>\n<p>1267143 rows × 32 columns</p>\n</div>"
          },
          "execution_count": 13,
          "metadata": {}
        }
      ],
      "metadata": {},
      "source": [
        "import fsspec\n",
        "import pandas as pd\n",
        "\n",
        "root_dir = \"abfss://beehivestorage@beehiveprojectlake.dfs.core.windows.net/\"\n",
        "source = root_dir+\"gold/processing/\"\n",
        "\n",
        "# orgainize silver data by location\n",
        "silver_dfs = {\n",
        "    \"schwartau\": pd.DataFrame(),\n",
        "    \"wurzburg\": pd.DataFrame()\n",
        "}\n",
        "# empty list to hold merged DataFrames\n",
        "gold_dfs = []\n",
        "\n",
        "# list files in source\n",
        "fs = fsspec.filesystem(\"abfs\")\n",
        "file_list_longform = fs.ls(source)\n",
        "file_list = [file.rsplit(\"/\", maxsplit=1)[1] for file in file_list_longform]\n",
        "\n",
        "for file in file_list:\n",
        "    # skip \"hidden\" files\n",
        "    if file.startswith(\".\"):\n",
        "        continue\n",
        "    \n",
        "    print(f\"processing {file}\")\n",
        "    df = pd.read_parquet(source+file)\n",
        "    location = file.split(\"_\")[0]\n",
        "\n",
        "    # temperature and humidity come from hive data and weather station: clarify source\n",
        "    if df.shape[1] == 2:\n",
        "        if \"temperature\" in df.columns:\n",
        "            df.columns = [\"timestamp\", \"temperature_hive\"]\n",
        "        elif \"humidity\" in df.columns:\n",
        "            df.columns = [\"timestamp\", \"humidity_hive\"]\n",
        "\n",
        "    if silver_dfs[location].empty:\n",
        "        silver_dfs[location] = df.copy()\n",
        "    else:\n",
        "        silver_dfs[location] = silver_dfs[location].merge(df, on=\"timestamp\", how=\"outer\")\n",
        "\n",
        "for loc in silver_dfs:\n",
        "    # skip locations with no DataFrames\n",
        "    if silver_dfs[loc].empty:\n",
        "        continue\n",
        "    # add location to DataFrames\n",
        "    silver_dfs[loc][\"location\"] = loc\n",
        "    silver_dfs[loc][\"location\"] = silver_dfs[loc][\"location\"].astype(\"category\")\n",
        "    # sort DataFrame by timestamps\n",
        "    silver_dfs[loc] = silver_dfs[loc].sort_values(by=\"timestamp\")\n",
        "    \n",
        "# Define the desired final column order\n",
        "final_columns = [\n",
        "    'timestamp', 'location', 'flow_out', 'flow_in',\n",
        "    'temperature_hive', 'humidity_hive', 'weight', 'precipitation', 'pressure_msl',\n",
        "    'sunshine', 'temperature', 'wind_direction', 'wind_speed',\n",
        "    'cloud_cover', 'dew_point', 'relative_humidity', 'wind_gust_direction',\n",
        "    'wind_gust_speed', 'solar', 'precipitation_source_distance',\n",
        "    'pressure_msl_source_distance', 'sunshine_source_distance',\n",
        "    'temperature_source_distance', 'wind_direction_source_distance',\n",
        "    'wind_speed_source_distance', 'cloud_cover_source_distance',\n",
        "    'dew_point_source_distance', 'relative_humidity_source_distance',\n",
        "    'visibility_source_distance', 'wind_gust_direction_source_distance',\n",
        "    'wind_gust_speed_source_distance', 'solar_source_distance'\n",
        "]\n",
        "\n",
        "gold = (\n",
        "    # combine silver DataFrames\n",
        "    pd.concat((silver_dfs[\"schwartau\"], silver_dfs[\"wurzburg\"]), ignore_index=True)\n",
        "    # Use reindex to conform the DataFrame to the final schema\n",
        "    .reindex(columns=final_columns)\n",
        ")\n",
        "\n",
        "gold"
      ]
    },
    {
      "cell_type": "code",
      "execution_count": 8,
      "outputs": [
        {
          "output_type": "display_data",
          "data": {
            "application/vnd.livy.statement-meta+json": {
              "spark_pool": "CLSYNB",
              "statement_id": 7,
              "statement_ids": [
                7
              ],
              "state": "finished",
              "livy_statement_state": "available",
              "spark_jobs": null,
              "session_id": "34",
              "normalized_state": "finished",
              "queued_time": "2025-08-20T10:17:19.079852Z",
              "session_start_time": null,
              "execution_start_time": "2025-08-20T10:17:22.0431905Z",
              "execution_finish_time": "2025-08-20T10:17:22.7036557Z",
              "parent_msg_id": "fc2db8d3-dbfd-4860-83d8-4c5136fb20da"
            },
            "text/plain": "StatementMeta(CLSYNB, 34, 7, Finished, Available, Finished)"
          },
          "metadata": {}
        },
        {
          "output_type": "stream",
          "name": "stdout",
          "text": [
            "<class 'pandas.core.frame.DataFrame'>\nRangeIndex: 1267143 entries, 0 to 1267142\nData columns (total 32 columns):\n #   Column                               Non-Null Count    Dtype              \n---  ------                               --------------    -----              \n 0   timestamp                            1267143 non-null  datetime64[ns, UTC]\n 1   location                             1267143 non-null  category           \n 2   flow_out                             1256918 non-null  float64            \n 3   flow_in                              1256901 non-null  float64            \n 4   temperature_hive                     0 non-null        float64            \n 5   humidity_hive                        1749 non-null     float64            \n 6   weight                               1749 non-null     float64            \n 7   precipitation                        21121 non-null    float64            \n 8   pressure_msl                         16385 non-null    float64            \n 9   sunshine                             15698 non-null    float64            \n 10  temperature                          16385 non-null    float64            \n 11  wind_direction                       16385 non-null    float64            \n 12  wind_speed                           16385 non-null    float64            \n 13  cloud_cover                          16384 non-null    float64            \n 14  dew_point                            16385 non-null    float64            \n 15  relative_humidity                    16385 non-null    float64            \n 16  wind_gust_direction                  16385 non-null    float64            \n 17  wind_gust_speed                      16385 non-null    float64            \n 18  solar                                15915 non-null    float64            \n 19  precipitation_source_distance        21121 non-null    float64            \n 20  pressure_msl_source_distance         21121 non-null    float64            \n 21  sunshine_source_distance             21121 non-null    float64            \n 22  temperature_source_distance          21121 non-null    float64            \n 23  wind_direction_source_distance       21121 non-null    float64            \n 24  wind_speed_source_distance           21121 non-null    float64            \n 25  cloud_cover_source_distance          21121 non-null    float64            \n 26  dew_point_source_distance            21121 non-null    float64            \n 27  relative_humidity_source_distance    21121 non-null    float64            \n 28  visibility_source_distance           21121 non-null    float64            \n 29  wind_gust_direction_source_distance  21121 non-null    float64            \n 30  wind_gust_speed_source_distance      21121 non-null    float64            \n 31  solar_source_distance                21121 non-null    float64            \ndtypes: category(1), datetime64[ns, UTC](1), float64(30)\nmemory usage: 300.9 MB\n"
          ]
        }
      ],
      "metadata": {},
      "source": [
        "gold.info()"
      ]
    },
    {
      "cell_type": "code",
      "execution_count": 9,
      "outputs": [
        {
          "output_type": "display_data",
          "data": {
            "application/vnd.livy.statement-meta+json": {
              "spark_pool": "CLSYNB",
              "statement_id": 8,
              "statement_ids": [
                8
              ],
              "state": "finished",
              "livy_statement_state": "available",
              "spark_jobs": null,
              "session_id": "34",
              "normalized_state": "finished",
              "queued_time": "2025-08-20T10:17:19.2104994Z",
              "session_start_time": null,
              "execution_start_time": "2025-08-20T10:17:22.7060611Z",
              "execution_finish_time": "2025-08-20T10:17:23.917642Z",
              "parent_msg_id": "b4a27b85-8e1d-4791-9c63-92e98e169e83"
            },
            "text/plain": "StatementMeta(CLSYNB, 34, 8, Finished, Available, Finished)"
          },
          "metadata": {}
        }
      ],
      "metadata": {},
      "source": [
        "# write to file\n",
        "sink = root_dir+\"gold/\"\n",
        "\n",
        "write_name = sink+f\"hivedata__{pd.Timestamp.now().strftime('%Y-%m-%dT%Hh%Mm%Ss')}.parquet\"\n",
        "gold.to_parquet(write_name, index=False)"
      ]
    },
    {
      "cell_type": "code",
      "execution_count": 10,
      "outputs": [
        {
          "output_type": "display_data",
          "data": {
            "application/vnd.livy.statement-meta+json": {
              "spark_pool": "CLSYNB",
              "statement_id": 9,
              "statement_ids": [
                9
              ],
              "state": "finished",
              "livy_statement_state": "available",
              "spark_jobs": null,
              "session_id": "34",
              "normalized_state": "finished",
              "queued_time": "2025-08-20T10:17:19.2603376Z",
              "session_start_time": null,
              "execution_start_time": "2025-08-20T10:17:23.9313739Z",
              "execution_finish_time": "2025-08-20T10:17:24.5838795Z",
              "parent_msg_id": "5f278658-6e21-4cca-813c-84186d851e7b"
            },
            "text/plain": "StatementMeta(CLSYNB, 34, 9, Finished, Available, Finished)"
          },
          "metadata": {}
        }
      ],
      "metadata": {},
      "source": [
        "mssparkutils.session.stop()"
      ]
    }
  ]
}